{
  "nbformat": 4,
  "nbformat_minor": 0,
  "metadata": {
    "colab": {
      "provenance": []
    },
    "kernelspec": {
      "name": "python3",
      "display_name": "Python 3"
    },
    "language_info": {
      "name": "python"
    }
  },
  "cells": [
    {
      "cell_type": "markdown",
      "source": [
        "Import necessary libraries"
      ],
      "metadata": {
        "id": "8qY8Vo_vyQMC"
      }
    },
    {
      "cell_type": "code",
      "execution_count": null,
      "metadata": {
        "id": "OFIxBBQnn0Us"
      },
      "outputs": [],
      "source": [
        "import numpy as np\n",
        "import tensorflow as tf\n",
        "from tensorflow import keras\n",
        "from tensorflow.keras import layers\n",
        "import random\n",
        "from tensorflow.keras.utils import plot_model\n",
        "from keras.layers import Input, LSTM, GRU, SimpleRNN, Dense\n",
        "from keras.models import Model\n",
        "from copy import copy\n",
        "from math import log\n",
        "import math"
      ]
    },
    {
      "cell_type": "markdown",
      "source": [
        "Mount Drive"
      ],
      "metadata": {
        "id": "BPsCHpqKyVMp"
      }
    },
    {
      "cell_type": "code",
      "source": [
        "from google.colab import drive\n",
        "drive.mount('/content/drive')"
      ],
      "metadata": {
        "colab": {
          "base_uri": "https://localhost:8080/"
        },
        "id": "wO0rOBAQpYEF",
        "outputId": "4176f702-0457-40c0-9620-752d72daa62d"
      },
      "execution_count": null,
      "outputs": [
        {
          "output_type": "stream",
          "name": "stdout",
          "text": [
            "Drive already mounted at /content/drive; to attempt to forcibly remount, call drive.mount(\"/content/drive\", force_remount=True).\n"
          ]
        }
      ]
    },
    {
      "cell_type": "code",
      "source": [
        "train_file = '/content/drive/MyDrive/dakshina_dataset_v1.0/dakshina_dataset_v1.0/hi/lexicons/hi.translit.sampled.train.tsv'\n",
        "val_file   = '/content/drive/MyDrive/dakshina_dataset_v1.0/dakshina_dataset_v1.0/hi/lexicons/hi.translit.sampled.dev.tsv'\n",
        "test_file  = '/content/drive/MyDrive/dakshina_dataset_v1.0/dakshina_dataset_v1.0/hi/lexicons/hi.translit.sampled.test.tsv'"
      ],
      "metadata": {
        "id": "NFW4OAWsphNA"
      },
      "execution_count": null,
      "outputs": []
    },
    {
      "cell_type": "markdown",
      "source": [
        "Preprocess data"
      ],
      "metadata": {
        "id": "z39wmxiDymNG"
      }
    },
    {
      "cell_type": "code",
      "source": [
        "def processData(filename, input_chars=None, target_chars=None):\n",
        "    \"\"\"\n",
        "    Loads and processes parallel text data for a sequence-to-sequence model.\n",
        "\n",
        "    Args:\n",
        "        filename (str): Path to the tab-separated data file.\n",
        "        input_chars (set, optional): Set of unique characters from the input language.\n",
        "                                     If None, a new set is created.\n",
        "        target_chars (set, optional): Set of unique characters from the target language.\n",
        "                                      If None, a new set is created.\n",
        "\n",
        "    Returns:\n",
        "        input_texts (List[str]): List of input sentences (Latin script).\n",
        "        target_texts (List[str]): List of target sentences (Native script), wrapped with \\t and \\n.\n",
        "        input_chars (List[str]): Sorted list of unique characters in input.\n",
        "        target_chars (List[str]): Sorted list of unique characters in output.\n",
        "        num_encoder_tokens (int): Number of unique characters in input.\n",
        "        num_decoder_tokens (int): Number of unique characters in output.\n",
        "        max_encoder_seq_length (int): Maximum length of input sequences.\n",
        "        max_decoder_seq_length (int): Maximum length of output sequences.\n",
        "    \"\"\"\n",
        "\n",
        "    # Initialize sets if not provided\n",
        "    if input_chars is None:\n",
        "        input_chars = set()\n",
        "    if target_chars is None:\n",
        "        target_chars = set()\n",
        "\n",
        "    input_texts = []\n",
        "    target_texts = []\n",
        "\n",
        "    # Read and split file into lines\n",
        "    with open(filename, \"r\", encoding=\"utf-8\") as f:\n",
        "        lines = f.read().strip().split(\"\\n\")\n",
        "\n",
        "    for line in lines:\n",
        "        try:\n",
        "            native_script, latin_script, attestation = line.split(\"\\t\")\n",
        "        except ValueError:\n",
        "            # Skip lines that don't have exactly 3 tab-separated fields\n",
        "            continue\n",
        "\n",
        "        # Add raw input (Latin script)\n",
        "        input_texts.append(latin_script)\n",
        "\n",
        "        # Add target text wrapped with start (\\t) and end (\\n) tokens\n",
        "        target_texts.append(\"\\t\" + native_script + \"\\n\")\n",
        "\n",
        "        # Update character sets\n",
        "        input_chars.update(latin_script)\n",
        "        target_chars.update(native_script)\n",
        "\n",
        "    # Add start and end tokens to target character set\n",
        "    target_chars.update([\"\\t\", \"\\n\"])\n",
        "\n",
        "    # Sort characters to keep token indices consistent\n",
        "    input_chars = sorted(input_chars)\n",
        "    target_chars = sorted(target_chars)\n",
        "\n",
        "    # Count unique characters\n",
        "    num_encoder_tokens = len(input_chars)\n",
        "    num_decoder_tokens = len(target_chars)\n",
        "\n",
        "    # Find max sequence lengths\n",
        "    max_encoder_seq_length = max(len(txt) for txt in input_texts)\n",
        "    max_decoder_seq_length = max(len(txt) for txt in target_texts)\n",
        "\n",
        "    return (\n",
        "        input_texts,\n",
        "        target_texts,\n",
        "        input_chars,\n",
        "        target_chars,\n",
        "        num_encoder_tokens,\n",
        "        num_decoder_tokens,\n",
        "        max_encoder_seq_length,\n",
        "        max_decoder_seq_length,\n",
        "    )\n",
        "\n",
        "\n"
      ],
      "metadata": {
        "id": "NYb1KhODyoEo"
      },
      "execution_count": null,
      "outputs": []
    },
    {
      "cell_type": "markdown",
      "source": [
        "Preprocess train data"
      ],
      "metadata": {
        "id": "z0ndnJxt1Z2l"
      }
    },
    {
      "cell_type": "code",
      "source": [
        "input_texts, target_texts, input_chars, target_chars, num_encoder_tokens, num_decoder_tokens, max_input_len, max_target_len = processData(train_file)\n",
        "\n",
        "assert len(input_texts) == len(target_texts), \"Mismatch between input and target samples.\"\n",
        "\n",
        "print(f\"Number of samples: {len(input_texts)}\")\n",
        "print(f\"Unique input tokens: {num_encoder_tokens}\")\n",
        "print(f\"Unique output tokens: {num_decoder_tokens}\")\n",
        "print(f\"Max input length: {max_input_len}\")\n",
        "print(f\"Max output length: {max_target_len}\")\n"
      ],
      "metadata": {
        "colab": {
          "base_uri": "https://localhost:8080/"
        },
        "id": "bAoqrz_W1cxM",
        "outputId": "d06d5c5f-282d-4512-c136-ecfd34cae8d9"
      },
      "execution_count": null,
      "outputs": [
        {
          "output_type": "stream",
          "name": "stdout",
          "text": [
            "Number of samples: 44204\n",
            "Unique input tokens: 26\n",
            "Unique output tokens: 65\n",
            "Max input length: 20\n",
            "Max output length: 21\n"
          ]
        }
      ]
    },
    {
      "cell_type": "markdown",
      "source": [
        "Preprocess Validation data"
      ],
      "metadata": {
        "id": "OhKT-38Z4VZt"
      }
    },
    {
      "cell_type": "code",
      "source": [
        "val_input, val_target, input_chars, target_chars, num_encoder_tokens, num_decoder_tokens, val_max_encoder_seq_length, val_max_decoder_seq_length = processData(\n",
        "    val_file, set(input_chars), set(target_chars)\n",
        ")\n",
        "\n",
        "# Recompute token counts in case new characters were added from val set\n",
        "num_encoder_tokens = len(input_chars)\n",
        "num_decoder_tokens = len(target_chars)\n",
        "\n",
        "# Sanity checks\n",
        "print(f\"Number of validation samples: {len(val_input)}\")\n",
        "print(f\"Unique input tokens (updated): {num_encoder_tokens}\")\n",
        "print(f\"Unique output tokens (updated): {num_decoder_tokens}\")\n",
        "print(f\"Max val input length: {val_max_encoder_seq_length}\")\n",
        "print(f\"Max val output length: {val_max_decoder_seq_length}\")\n"
      ],
      "metadata": {
        "colab": {
          "base_uri": "https://localhost:8080/"
        },
        "id": "Vy_LpD542tAC",
        "outputId": "e7246d9c-f25a-4a1c-c446-515bc2f1df1d"
      },
      "execution_count": null,
      "outputs": [
        {
          "output_type": "stream",
          "name": "stdout",
          "text": [
            "Number of validation samples: 4358\n",
            "Unique input tokens (updated): 26\n",
            "Unique output tokens (updated): 65\n",
            "Max val input length: 18\n",
            "Max val output length: 16\n"
          ]
        }
      ]
    },
    {
      "cell_type": "markdown",
      "source": [
        "Preprocess test data"
      ],
      "metadata": {
        "id": "tn9J4MxP4UQX"
      }
    },
    {
      "cell_type": "code",
      "source": [
        "test_input, test_target, test_input_chars, test_target_chars, test_num_encoder_tokens, test_num_decoder_tokens, test_max_encoder_seq_length, test_max_decoder_seq_length = processData(\n",
        "    test_file, set(input_chars), set(target_chars)\n",
        ")\n",
        "\n",
        "# Optionally update token counts (if any new chars in test)\n",
        "test_num_encoder_tokens = len(input_chars)\n",
        "test_num_decoder_tokens = len(target_chars)\n",
        "\n",
        "print(f\"Number of test samples: {len(test_input)}\")\n",
        "print(f\"Test Max sequence length for inputs: {test_max_encoder_seq_length}\")\n",
        "print(f\"Test Max sequence length for outputs: {test_max_decoder_seq_length}\")\n"
      ],
      "metadata": {
        "colab": {
          "base_uri": "https://localhost:8080/"
        },
        "id": "H9YWqjKo4cB9",
        "outputId": "c50eca9c-ccab-4415-a585-faa70831c832"
      },
      "execution_count": null,
      "outputs": [
        {
          "output_type": "stream",
          "name": "stdout",
          "text": [
            "Number of test samples: 4502\n",
            "Test Max sequence length for inputs: 16\n",
            "Test Max sequence length for outputs: 17\n"
          ]
        }
      ]
    },
    {
      "cell_type": "markdown",
      "source": [
        "Seq2Seq Character-Level One-Hot Encoding for Train, Validation, and Test Data"
      ],
      "metadata": {
        "id": "8zvitynI6Er6"
      }
    },
    {
      "cell_type": "code",
      "source": [
        "# Token-to-index dictionaries for input and target characters\n",
        "input_token_index = {char: i for i, char in enumerate(input_chars)}\n",
        "target_token_index = {char: i for i, char in enumerate(target_chars)}\n",
        "\n",
        "# Reverse dictionaries for decoding (index-to-char)\n",
        "reverse_input_token_index = {i: char for char, i in input_token_index.items()}\n",
        "reverse_target_token_index = {i: char for char, i in target_token_index.items()}\n",
        "\n",
        "# Initialize encoder and decoder input/output arrays with zeros\n",
        "encoder_input_data = np.zeros(\n",
        "    (len(input_texts), max_input_len, num_encoder_tokens), dtype=\"float32\"\n",
        ")\n",
        "val_encoder_input_data = np.zeros(\n",
        "    (len(val_input), max_input_len, num_encoder_tokens), dtype=\"float32\"\n",
        ")\n",
        "test_encoder_input_data = np.zeros(\n",
        "    (len(test_input), max_input_len, num_encoder_tokens), dtype=\"float32\"\n",
        ")\n",
        "\n",
        "decoder_input_data = np.zeros(\n",
        "    (len(input_texts), max_target_len, num_decoder_tokens), dtype=\"float32\"\n",
        ")\n",
        "val_decoder_input_data = np.zeros(\n",
        "    (len(val_input), max_target_len, num_decoder_tokens), dtype=\"float32\"\n",
        ")\n",
        "test_decoder_input_data = np.zeros(\n",
        "    (len(test_input), max_target_len, num_decoder_tokens), dtype=\"float32\"\n",
        ")\n",
        "\n",
        "decoder_target_data = np.zeros(\n",
        "    (len(input_texts), max_target_len, num_decoder_tokens), dtype=\"float32\"\n",
        ")\n",
        "val_decoder_target_data = np.zeros(\n",
        "    (len(val_input), max_target_len, num_decoder_tokens), dtype=\"float32\"\n",
        ")\n",
        "test_decoder_target_data = np.zeros(\n",
        "    (len(test_input), max_target_len, num_decoder_tokens), dtype=\"float32\"\n",
        ")\n",
        "\n",
        "# Vectorize training data\n",
        "for i, (input_text, target_text) in enumerate(zip(input_texts, target_texts)):\n",
        "    for t, char in enumerate(input_text):\n",
        "        encoder_input_data[i, t, input_token_index[char]] = 1.0\n",
        "    for t, char in enumerate(target_text):\n",
        "        decoder_input_data[i, t, target_token_index[char]] = 1.0\n",
        "        # decoder_target_data is one timestep ahead and excludes start char \"\\t\"\n",
        "        if t > 0:\n",
        "            decoder_target_data[i, t - 1, target_token_index[char]] = 1.0\n",
        "\n",
        "# Vectorize validation data\n",
        "for i, (input_text, target_text) in enumerate(zip(val_input, val_target)):\n",
        "    for t, char in enumerate(input_text):\n",
        "        val_encoder_input_data[i, t, input_token_index[char]] = 1.0\n",
        "    for t, char in enumerate(target_text):\n",
        "        val_decoder_input_data[i, t, target_token_index[char]] = 1.0\n",
        "        if t > 0:\n",
        "            val_decoder_target_data[i, t - 1, target_token_index[char]] = 1.0\n",
        "\n",
        "# Vectorize test data\n",
        "for i, (input_text, target_text) in enumerate(zip(test_input, test_target)):\n",
        "    for t, char in enumerate(input_text):\n",
        "        test_encoder_input_data[i, t, input_token_index[char]] = 1.0\n",
        "    for t, char in enumerate(target_text):\n",
        "        test_decoder_input_data[i, t, target_token_index[char]] = 1.0\n",
        "        if t > 0:\n",
        "            test_decoder_target_data[i, t - 1, target_token_index[char]] = 1.0\n"
      ],
      "metadata": {
        "id": "MFjEbzfA6FMP"
      },
      "execution_count": null,
      "outputs": []
    },
    {
      "cell_type": "markdown",
      "source": [
        "Beam search decoder and translation function"
      ],
      "metadata": {
        "id": "cQKM_AglON3o"
      }
    },
    {
      "cell_type": "code",
      "source": [
        "\n",
        "def beam_search_decoder(probabilities, k):\n",
        "    \"\"\"\n",
        "    Perform beam search decoding.\n",
        "\n",
        "     Args:\n",
        "        probabilities: A list of softmax outputs for each time step (list of lists).\n",
        "        k: Beam width.\n",
        "\n",
        "    Returns:\n",
        "        A list of top k decoded sequences with their scores.\n",
        "    \"\"\"\n",
        "    decoded_sequences = [[[], 0.0]]  # Each item: (token index sequence, log-prob score)\n",
        "\n",
        "    # Iterate over each time step\n",
        "    for timestep_probs in probabilities:\n",
        "        candidates = []\n",
        "        for sequence, score in decoded_sequences:\n",
        "            for token_index, token_prob in enumerate(timestep_probs):\n",
        "                candidate_seq = sequence + [token_index]\n",
        "                candidate_score = score - log(token_prob + 1e-10)  # Avoid log(0)\n",
        "                candidates.append([candidate_seq, candidate_score])\n",
        "\n",
        "        # Keep top k sequences with lowest negative log-prob (i.e., highest prob)\n",
        "        decoded_sequences = sorted(candidates, key=lambda x: x[1])[:k]\n",
        "\n",
        "    return decoded_sequences\n",
        "\n",
        "\n",
        "def translate(token_index_sequence):\n",
        "    \"\"\"\n",
        "    Convert a sequence of token indices to the corresponding target text.\n",
        "\n",
        "    Args:\n",
        "        token_index_sequence: A list of integer indices representing target tokens.\n",
        "\n",
        "    Returns:\n",
        "        A decoded string from the target vocabulary.\n",
        "    \"\"\"\n",
        "    return ''.join([reverse_target_token_index[idx] for idx in token_index_sequence]).strip()\n"
      ],
      "metadata": {
        "id": "qammk17G6YWR"
      },
      "execution_count": null,
      "outputs": []
    },
    {
      "cell_type": "markdown",
      "source": [
        "Beam Search Word-Level Accuracy Evaluation"
      ],
      "metadata": {
        "id": "R6onZlpzPRhS"
      }
    },
    {
      "cell_type": "code",
      "source": [
        "class WordAccuracyCallback(keras.callbacks.Callback):\n",
        "    \"\"\"\n",
        "    Custom Keras Callback to compute word-level accuracy using beam search\n",
        "    at the end of each training epoch.\n",
        "    \"\"\"\n",
        "\n",
        "    def __init__(self, beam_size):\n",
        "        super().__init__()\n",
        "        self.beam_size = beam_size\n",
        "\n",
        "    def on_epoch_end(self, epoch, logs=None):\n",
        "        if logs is None:\n",
        "            logs = {}\n",
        "\n",
        "        # Predict the entire validation set\n",
        "        predictions = self.model.predict([val_encoder_input_data, val_decoder_input_data])\n",
        "        correct_count = 0\n",
        "\n",
        "        # Iterate over each validation sample\n",
        "        for i in range(predictions.shape[0]):\n",
        "            # Decode predictions using beam search\n",
        "            candidate_sequences = beam_search_decoder(predictions[i], self.beam_size)\n",
        "\n",
        "            # Compare beam search outputs to ground truth\n",
        "            for j in range(self.beam_size):\n",
        "                predicted_text = translate(candidate_sequences[j][0][:len(val_target[i]) - 1])\n",
        "                if \"\\t\" + predicted_text == val_target[i]:  # Include start token for exact match\n",
        "                    correct_count += 1\n",
        "                    break  # Only one correct prediction is enough\n",
        "\n",
        "        # Compute word-level accuracy (rounded to 4 decimal places)\n",
        "        accuracy = correct_count / predictions.shape[0]\n",
        "        logs[\"WordAccuracy\"] = round(accuracy, 4)\n",
        "        print(\"- WordAccuracy:\", logs[\"WordAccuracy\"])\n"
      ],
      "metadata": {
        "id": "CrrbpQdRPQVw"
      },
      "execution_count": null,
      "outputs": []
    },
    {
      "cell_type": "markdown",
      "source": [
        "**Sequence-to-Sequence Model with Beam Search Inference**"
      ],
      "metadata": {
        "id": "u37rncbAX4ld"
      }
    },
    {
      "cell_type": "code",
      "source": [
        "\n",
        "# Define a custom Seq2Seq model class\n",
        "class Seq2SeqModel:\n",
        "    def __init__(self, num_encoder_layers, num_decoder_layers, latent_dim,\n",
        "                 dropout, recurrent_dropout, cell_type, beam_size):\n",
        "        \"\"\"\n",
        "        Initialize hyperparameters and model components.\n",
        "        \"\"\"\n",
        "        self.model = None\n",
        "        self.encoder_inputs = None\n",
        "        self.encoder_states = None\n",
        "        self.decoder_inputs = None\n",
        "        self.output_layers = []         # Store decoder layers for inference\n",
        "        self.decoder_dense = None       # Final output Dense layer for decoder\n",
        "\n",
        "        self.num_encoder_layers = num_encoder_layers\n",
        "        self.num_decoder_layers = num_decoder_layers\n",
        "        self.latent_dim = latent_dim\n",
        "        self.dropout = dropout\n",
        "        self.recurrent_dropout = recurrent_dropout\n",
        "        self.cell_type = cell_type      # LSTM, GRU, or RNN\n",
        "        self.beam_size = beam_size\n",
        "\n",
        "        self.encoder_model = None       # Inference encoder model\n",
        "        self.decoder_model = None       # Inference decoder model\n",
        "\n",
        "    def build_and_train(self, encoder_input_data, decoder_input_data, decoder_target_data,\n",
        "                        epochs, batch_size, val_encoder_input_data, val_decoder_input_data,\n",
        "                        val_decoder_target_data, num_encoder_tokens, num_decoder_tokens):\n",
        "        \"\"\"\n",
        "        Build and train the seq2seq model using training and validation data.\n",
        "        \"\"\"\n",
        "        # ===== ENCODER =====\n",
        "        self.encoder_inputs = Input(shape=(None, num_encoder_tokens))\n",
        "        x = self.encoder_inputs\n",
        "\n",
        "        encoder_states = []\n",
        "\n",
        "        # Build encoder layers\n",
        "        for i in range(self.num_encoder_layers):\n",
        "            return_seq = i < self.num_encoder_layers - 1  # Only return sequences if more layers remain\n",
        "\n",
        "            if self.cell_type == \"LSTM\":\n",
        "                x, state_h, state_c = LSTM(self.latent_dim, return_state=True, return_sequences=return_seq,\n",
        "                                           dropout=self.dropout, recurrent_dropout=self.recurrent_dropout)(x)\n",
        "                encoder_states.append((state_h, state_c))\n",
        "            elif self.cell_type == \"GRU\":\n",
        "                x, state_h = GRU(self.latent_dim, return_state=True, return_sequences=return_seq,\n",
        "                                 dropout=self.dropout, recurrent_dropout=self.recurrent_dropout)(x)\n",
        "                encoder_states.append(state_h)\n",
        "            elif self.cell_type == \"RNN\":\n",
        "                x, state_h = SimpleRNN(self.latent_dim, return_state=True, return_sequences=return_seq,\n",
        "                                       dropout=self.dropout, recurrent_dropout=self.recurrent_dropout)(x)\n",
        "                encoder_states.append(state_h)\n",
        "\n",
        "        # ===== DECODER =====\n",
        "        self.decoder_inputs = Input(shape=(None, num_decoder_tokens))\n",
        "        x = self.decoder_inputs\n",
        "\n",
        "        self.output_layers = []\n",
        "\n",
        "        for i in range(self.num_decoder_layers):\n",
        "            if self.cell_type == \"LSTM\":\n",
        "                state_h, state_c = encoder_states[i]\n",
        "                layer = LSTM(self.latent_dim, return_sequences=True, return_state=True,\n",
        "                             dropout=self.dropout, recurrent_dropout=self.recurrent_dropout)\n",
        "                x, _, _ = layer(x, initial_state=[state_h, state_c])\n",
        "            elif self.cell_type == \"GRU\":\n",
        "                state_h = encoder_states[i]\n",
        "                layer = GRU(self.latent_dim, return_sequences=True, return_state=True,\n",
        "                            dropout=self.dropout, recurrent_dropout=self.recurrent_dropout)\n",
        "                x, _ = layer(x, initial_state=[state_h])\n",
        "            elif self.cell_type == \"RNN\":\n",
        "                state_h = encoder_states[i]\n",
        "                layer = SimpleRNN(self.latent_dim, return_sequences=True, return_state=True,\n",
        "                                  dropout=self.dropout, recurrent_dropout=self.recurrent_dropout)\n",
        "                x, _ = layer(x, initial_state=[state_h])\n",
        "\n",
        "            self.output_layers.append(layer)\n",
        "\n",
        "        # Output layer to predict the next token\n",
        "        self.decoder_dense = Dense(num_decoder_tokens, activation='softmax')\n",
        "        decoder_outputs = self.decoder_dense(x)\n",
        "\n",
        "        # Compile full model for training\n",
        "        self.model = Model([self.encoder_inputs, self.decoder_inputs], decoder_outputs)\n",
        "        self.model.compile(optimizer='rmsprop', loss='categorical_crossentropy', metrics=['accuracy'])\n",
        "\n",
        "        # callback for logging\n",
        "        callbacks = [WordAccuracyCallback(self.beam_size), WandbMetricsLogger(log_freq=\"epoch\")]\n",
        "\n",
        "        # Train the model\n",
        "        self.model.fit(\n",
        "            [encoder_input_data, decoder_input_data],\n",
        "            decoder_target_data,\n",
        "            batch_size=batch_size,\n",
        "            epochs=epochs,\n",
        "            shuffle=True,\n",
        "            validation_data=([val_encoder_input_data, val_decoder_input_data], val_decoder_target_data),\n",
        "            callbacks=callbacks,\n",
        "            verbose=1\n",
        "        )\n",
        "\n",
        "        # Flatten encoder_states to use in inference\n",
        "        if self.cell_type == \"LSTM\":\n",
        "            self.encoder_states = [s for pair in encoder_states for s in pair]\n",
        "        else:\n",
        "            self.encoder_states = encoder_states\n",
        "\n",
        "    def load_inference_models(self):\n",
        "        \"\"\"\n",
        "        Build separate inference models for encoder and decoder.\n",
        "        \"\"\"\n",
        "        # Encoder model for inference\n",
        "        self.encoder_model = keras.Model(self.encoder_inputs, self.encoder_states)\n",
        "\n",
        "        # Decoder inference model\n",
        "        decoder_state_inputs = []\n",
        "        x = self.decoder_inputs\n",
        "        decoder_states = []\n",
        "\n",
        "        for i in range(self.num_decoder_layers):\n",
        "            if self.cell_type == \"LSTM\":\n",
        "                # Create new input tensors for decoder initial states\n",
        "                state_input_h = Input(shape=(self.latent_dim,))\n",
        "                state_input_c = Input(shape=(self.latent_dim,))\n",
        "                layer = self.output_layers[i]\n",
        "                x, out_h, out_c = layer(x, initial_state=[state_input_h, state_input_c])\n",
        "                decoder_state_inputs.extend([state_input_h, state_input_c])\n",
        "                decoder_states.extend([out_h, out_c])\n",
        "            else:\n",
        "                state_input_h = Input(shape=(self.latent_dim,))\n",
        "                layer = self.output_layers[i]\n",
        "                x, out_h = layer(x, initial_state=[state_input_h])\n",
        "                decoder_state_inputs.append(state_input_h)\n",
        "                decoder_states.append(out_h)\n",
        "\n",
        "        # Final decoder model for inference\n",
        "        decoder_outputs = self.decoder_dense(x)\n",
        "        self.decoder_model = Model([self.decoder_inputs] + decoder_state_inputs,\n",
        "                                   [decoder_outputs] + decoder_states)\n",
        "\n",
        "    def decode_sequence(self, input_seq):\n",
        "        \"\"\"\n",
        "        Greedy decoding to generate a sequence from input using inference models.\n",
        "        \"\"\"\n",
        "        # Encode input\n",
        "        states = self.encoder_model.predict(input_seq)\n",
        "\n",
        "        # Initialize target sequence with start token\n",
        "        target_seq = np.zeros((1, 1, self.decoder_dense.units))\n",
        "        # '\\t' is the start-of-sequence character.\n",
        "        # Check if '\\t' is in target_token_index before accessing.\n",
        "        if '\\t' in target_token_index:\n",
        "            target_seq[0, 0, target_token_index['\\t']] = 1.\n",
        "        else:\n",
        "            # Handle the case where '\\t' is not in the vocabulary\n",
        "            print(\"Warning: Start-of-sequence token '\\\\t' not found in target_token_index.\")\n",
        "            # You might want to raise an error or use a default behavior here\n",
        "            return \"\" # Return empty string or handle appropriately\n",
        "\n",
        "        decoded = []\n",
        "\n",
        "        while True:\n",
        "            # Predict next token and get new states\n",
        "            output_tokens_and_states = self.decoder_model.predict([target_seq] + states)\n",
        "            output_tokens, states = output_tokens_and_states[0], output_tokens_and_states[1:]\n",
        "\n",
        "            # Sample a token (greedy search)\n",
        "            token_index = np.argmax(output_tokens[0, 0])\n",
        "            # Check if token_index is in reverse_target_token_index before accessing.\n",
        "            if token_index in reverse_target_token_index:\n",
        "                char = reverse_target_token_index[token_index]\n",
        "                decoded.append(char)\n",
        "            else:\n",
        "                # Handle the case where the predicted token index is out of bounds\n",
        "                print(f\"Warning: Predicted token index {token_index} not found in reverse_target_token_index.\")\n",
        "                # You might want to break the loop or use a placeholder character\n",
        "                break\n",
        "\n",
        "\n",
        "            # Exit condition: either hit max length or find stop character.\n",
        "            # Check if '\\n' is in decoded list.\n",
        "            if '\\n' in decoded or len(decoded) > max_target_len:\n",
        "                break\n",
        "\n",
        "            # Update the target sequence (of length 1) with the sampled token.\n",
        "            target_seq = np.zeros((1, 1, self.decoder_dense.units))\n",
        "            # Check if char is in target_token_index before accessing.\n",
        "            if char in target_token_index:\n",
        "                target_seq[0, 0, target_token_index[char]] = 1.\n",
        "            else:\n",
        "                # Handle the case where the character is not in the vocabulary\n",
        "                print(f\"Warning: Character '{char}' not found in target_token_index.\")\n",
        "                # You might want to break the loop or use a placeholder\n",
        "                break\n",
        "\n",
        "        return \"\".join(decoded)\n",
        "\n",
        "    def get_predictions(self, input_data, target_texts):\n",
        "        \"\"\"\n",
        "        Generate predictions for a batch and compute word-level accuracy.\n",
        "        \"\"\"\n",
        "        correct = 0\n",
        "        predictions = []\n",
        "\n",
        "        for i in range(len(input_data)):\n",
        "            input_seq = input_data[i:i + 1]\n",
        "            decoded_seq = self.decode_sequence(input_seq)\n",
        "\n",
        "            if decoded_seq.endswith('\\n'):\n",
        "                decoded_seq = decoded_seq[:-1]\n",
        "\n",
        "            predictions.append(decoded_seq)\n",
        "            true_word = target_texts[i][1:-1]  # Remove start and end tokens\n",
        "            correct += (decoded_seq == true_word)\n",
        "\n",
        "        accuracy = correct / len(input_data)\n",
        "        return accuracy, predictions\n"
      ],
      "metadata": {
        "id": "9XRQEo-g0QbJ"
      },
      "execution_count": 57,
      "outputs": []
    },
    {
      "cell_type": "code",
      "source": [
        " !pip install wandb"
      ],
      "metadata": {
        "colab": {
          "base_uri": "https://localhost:8080/"
        },
        "id": "l4ytWtUasAd1",
        "outputId": "d515ff39-6937-4a5c-83b3-deb62104c26c"
      },
      "execution_count": null,
      "outputs": [
        {
          "output_type": "stream",
          "name": "stdout",
          "text": [
            "Requirement already satisfied: wandb in /usr/local/lib/python3.11/dist-packages (0.19.11)\n",
            "Requirement already satisfied: click!=8.0.0,>=7.1 in /usr/local/lib/python3.11/dist-packages (from wandb) (8.2.0)\n",
            "Requirement already satisfied: docker-pycreds>=0.4.0 in /usr/local/lib/python3.11/dist-packages (from wandb) (0.4.0)\n",
            "Requirement already satisfied: gitpython!=3.1.29,>=1.0.0 in /usr/local/lib/python3.11/dist-packages (from wandb) (3.1.44)\n",
            "Requirement already satisfied: platformdirs in /usr/local/lib/python3.11/dist-packages (from wandb) (4.3.8)\n",
            "Requirement already satisfied: protobuf!=4.21.0,!=5.28.0,<7,>=3.19.0 in /usr/local/lib/python3.11/dist-packages (from wandb) (5.29.4)\n",
            "Requirement already satisfied: psutil>=5.0.0 in /usr/local/lib/python3.11/dist-packages (from wandb) (5.9.5)\n",
            "Requirement already satisfied: pydantic<3 in /usr/local/lib/python3.11/dist-packages (from wandb) (2.11.4)\n",
            "Requirement already satisfied: pyyaml in /usr/local/lib/python3.11/dist-packages (from wandb) (6.0.2)\n",
            "Requirement already satisfied: requests<3,>=2.0.0 in /usr/local/lib/python3.11/dist-packages (from wandb) (2.32.3)\n",
            "Requirement already satisfied: sentry-sdk>=2.0.0 in /usr/local/lib/python3.11/dist-packages (from wandb) (2.28.0)\n",
            "Requirement already satisfied: setproctitle in /usr/local/lib/python3.11/dist-packages (from wandb) (1.3.6)\n",
            "Requirement already satisfied: setuptools in /usr/local/lib/python3.11/dist-packages (from wandb) (75.2.0)\n",
            "Requirement already satisfied: typing-extensions<5,>=4.4 in /usr/local/lib/python3.11/dist-packages (from wandb) (4.13.2)\n",
            "Requirement already satisfied: six>=1.4.0 in /usr/local/lib/python3.11/dist-packages (from docker-pycreds>=0.4.0->wandb) (1.17.0)\n",
            "Requirement already satisfied: gitdb<5,>=4.0.1 in /usr/local/lib/python3.11/dist-packages (from gitpython!=3.1.29,>=1.0.0->wandb) (4.0.12)\n",
            "Requirement already satisfied: annotated-types>=0.6.0 in /usr/local/lib/python3.11/dist-packages (from pydantic<3->wandb) (0.7.0)\n",
            "Requirement already satisfied: pydantic-core==2.33.2 in /usr/local/lib/python3.11/dist-packages (from pydantic<3->wandb) (2.33.2)\n",
            "Requirement already satisfied: typing-inspection>=0.4.0 in /usr/local/lib/python3.11/dist-packages (from pydantic<3->wandb) (0.4.0)\n",
            "Requirement already satisfied: charset-normalizer<4,>=2 in /usr/local/lib/python3.11/dist-packages (from requests<3,>=2.0.0->wandb) (3.4.2)\n",
            "Requirement already satisfied: idna<4,>=2.5 in /usr/local/lib/python3.11/dist-packages (from requests<3,>=2.0.0->wandb) (3.10)\n",
            "Requirement already satisfied: urllib3<3,>=1.21.1 in /usr/local/lib/python3.11/dist-packages (from requests<3,>=2.0.0->wandb) (2.4.0)\n",
            "Requirement already satisfied: certifi>=2017.4.17 in /usr/local/lib/python3.11/dist-packages (from requests<3,>=2.0.0->wandb) (2025.4.26)\n",
            "Requirement already satisfied: smmap<6,>=3.0.1 in /usr/local/lib/python3.11/dist-packages (from gitdb<5,>=4.0.1->gitpython!=3.1.29,>=1.0.0->wandb) (5.0.2)\n"
          ]
        }
      ]
    },
    {
      "cell_type": "code",
      "source": [
        "import wandb\n",
        "wandb.login()"
      ],
      "metadata": {
        "colab": {
          "base_uri": "https://localhost:8080/"
        },
        "id": "ibwEiSiLYB4j",
        "outputId": "53d17a53-6d11-48ab-aed4-97b7ba0e4097"
      },
      "execution_count": null,
      "outputs": [
        {
          "output_type": "execute_result",
          "data": {
            "text/plain": [
              "True"
            ]
          },
          "metadata": {},
          "execution_count": 34
        }
      ]
    },
    {
      "cell_type": "code",
      "source": [
        "from wandb.integration.keras import WandbMetricsLogger"
      ],
      "metadata": {
        "id": "7ZYUeIGrhmwn"
      },
      "execution_count": null,
      "outputs": []
    },
    {
      "cell_type": "code",
      "source": [
        "sweep_config = {\n",
        "  'name': 'RNN',\n",
        "  'method': 'bayes',\n",
        "  'metric': {\n",
        "      'name': 'accuracy',\n",
        "      'goal': 'maximize'\n",
        "    },\n",
        "\n",
        "  'early_terminate': {\n",
        "        'type': 'hyperband',\n",
        "        'min_iter': 3,\n",
        "        'max_iter': 20,\n",
        "        's': 2\n",
        "    },\n",
        "\n",
        "  'parameters': {\n",
        "        'epochs':{\n",
        "            'values':[10, 20, 30]\n",
        "        },\n",
        "        'batch_size':{\n",
        "            'values':[32, 64, 128]\n",
        "        },\n",
        "        'encoder_layers':{\n",
        "            'values':[1, 2, 3]\n",
        "        },\n",
        "        'decoder_layers':{\n",
        "            'values':[1, 2, 3]\n",
        "        },\n",
        "        'hidden_layer_size':{\n",
        "            'values':[16, 32, 64, 256]\n",
        "        },\n",
        "        'cell_type':{\n",
        "            'values':['GRU', 'LSTM','RNN']\n",
        "        },\n",
        "        'dropout':{\n",
        "            'values':[0, 0.2, 0.3]\n",
        "        },\n",
        "        'recurrent_dropout':{\n",
        "            'values':[0, 0.2, 0.3]\n",
        "        },\n",
        "        'beam_size':{\n",
        "            'values':[1, 3, 5]\n",
        "        }\n",
        "\n",
        "    }\n",
        "\n",
        "}\n",
        "\n"
      ],
      "metadata": {
        "id": "JugLyPgnhquG"
      },
      "execution_count": null,
      "outputs": []
    },
    {
      "cell_type": "code",
      "source": [
        "sweep_id = wandb.sweep(sweep_config, project = 'DL_Assignment3 without attention', entity = 'me21b118-iit-madras' )"
      ],
      "metadata": {
        "colab": {
          "base_uri": "https://localhost:8080/"
        },
        "id": "ZaE-vkkxoeF8",
        "outputId": "1723b437-28db-47f7-b9df-159fadd5a7d0"
      },
      "execution_count": null,
      "outputs": [
        {
          "output_type": "stream",
          "name": "stdout",
          "text": [
            "Create sweep with ID: l17agojd\n",
            "Sweep URL: https://wandb.ai/me21b118-iit-madras/DL_Assignment3%20without%20attention/sweeps/l17agojd\n"
          ]
        }
      ]
    },
    {
      "cell_type": "code",
      "source": [
        "sweep_id = 'in4rwmxd'\n",
        "# Sweep training function\n",
        "def train():\n",
        "    run = wandb.init()                               # start a W&B run\n",
        "    cfg = run.config                                 # easier alias\n",
        "\n",
        "    # Sanity‑check: encoder layers must be ≥ decoder layers\n",
        "    if cfg.encoder_layers < cfg.decoder_layers:\n",
        "        print(\"decoder_layers exceeds encoder_layers; skipping this run.\")\n",
        "        return\n",
        "\n",
        "    # Build & train the model\n",
        "    seq2seq = Seq2SeqModel(\n",
        "        num_encoder_layers=cfg.encoder_layers,\n",
        "        num_decoder_layers=cfg.decoder_layers,\n",
        "        latent_dim        =cfg.hidden_layer_size,\n",
        "        dropout           =cfg.dropout,\n",
        "        recurrent_dropout =cfg.recurrent_dropout,\n",
        "        cell_type         =cfg.cell_type,\n",
        "        beam_size         =cfg.beam_size,\n",
        "    )\n",
        "\n",
        "    seq2seq.build_and_train(\n",
        "        encoder_input_data,\n",
        "        decoder_input_data,\n",
        "        decoder_target_data,\n",
        "        epochs      =cfg.epochs,           # pull from sweep config\n",
        "        batch_size  =cfg.batch_size,       # pull from sweep config\n",
        "        val_encoder_input_data =val_encoder_input_data,\n",
        "        val_decoder_input_data =val_decoder_input_data,\n",
        "        val_decoder_target_data=val_decoder_target_data,\n",
        "        num_encoder_tokens     =num_encoder_tokens,\n",
        "        num_decoder_tokens     =num_decoder_tokens\n",
        "    )\n",
        "\n",
        "    run.finish()        # ensures W&B properly closes the run\n",
        "\n",
        "# Kick off the sweep agent\n",
        "wandb.agent(sweep_id=sweep_id, function=train, count=7)\n",
        "\n"
      ],
      "metadata": {
        "colab": {
          "base_uri": "https://localhost:8080/",
          "height": 1000
        },
        "id": "b0jPNykjpbfP",
        "outputId": "475c1dca-60df-4ac3-df4e-e283f4bdd5a3"
      },
      "execution_count": null,
      "outputs": [
        {
          "metadata": {
            "tags": null
          },
          "name": "stderr",
          "output_type": "stream",
          "text": [
            "\u001b[34m\u001b[1mwandb\u001b[0m: Sweep Agent: Waiting for job.\n",
            "\u001b[34m\u001b[1mwandb\u001b[0m: Job received.\n",
            "\u001b[34m\u001b[1mwandb\u001b[0m: Agent Starting Run: uwqtscm4 with config:\n",
            "\u001b[34m\u001b[1mwandb\u001b[0m: \tbatch_size: 64\n",
            "\u001b[34m\u001b[1mwandb\u001b[0m: \tbeam_size: 5\n",
            "\u001b[34m\u001b[1mwandb\u001b[0m: \tcell_type: LSTM\n",
            "\u001b[34m\u001b[1mwandb\u001b[0m: \tdecoder_layers: 3\n",
            "\u001b[34m\u001b[1mwandb\u001b[0m: \tdropout: 0.2\n",
            "\u001b[34m\u001b[1mwandb\u001b[0m: \tencoder_layers: 2\n",
            "\u001b[34m\u001b[1mwandb\u001b[0m: \tepochs: 10\n",
            "\u001b[34m\u001b[1mwandb\u001b[0m: \thidden_layer_size: 256\n",
            "\u001b[34m\u001b[1mwandb\u001b[0m: \trecurrent_dropout: 0.2\n"
          ]
        },
        {
          "data": {
            "text/html": [
              "Tracking run with wandb version 0.19.11"
            ],
            "text/plain": [
              "<IPython.core.display.HTML object>"
            ]
          },
          "metadata": {},
          "output_type": "display_data"
        },
        {
          "data": {
            "text/html": [
              "Run data is saved locally in <code>/content/wandb/run-20250521_095949-uwqtscm4</code>"
            ],
            "text/plain": [
              "<IPython.core.display.HTML object>"
            ]
          },
          "metadata": {},
          "output_type": "display_data"
        },
        {
          "data": {
            "text/html": [
              "Syncing run <strong><a href='https://wandb.ai/me21b118-iit-madras/DL_Assignment3%20without%20attention/runs/uwqtscm4' target=\"_blank\">fearless-sweep-27</a></strong> to <a href='https://wandb.ai/me21b118-iit-madras/DL_Assignment3%20without%20attention' target=\"_blank\">Weights & Biases</a> (<a href='https://wandb.me/developer-guide' target=\"_blank\">docs</a>)<br>Sweep page: <a href='https://wandb.ai/me21b118-iit-madras/DL_Assignment3%20without%20attention/sweeps/in4rwmxd' target=\"_blank\">https://wandb.ai/me21b118-iit-madras/DL_Assignment3%20without%20attention/sweeps/in4rwmxd</a>"
            ],
            "text/plain": [
              "<IPython.core.display.HTML object>"
            ]
          },
          "metadata": {},
          "output_type": "display_data"
        },
        {
          "data": {
            "text/html": [
              " View project at <a href='https://wandb.ai/me21b118-iit-madras/DL_Assignment3%20without%20attention' target=\"_blank\">https://wandb.ai/me21b118-iit-madras/DL_Assignment3%20without%20attention</a>"
            ],
            "text/plain": [
              "<IPython.core.display.HTML object>"
            ]
          },
          "metadata": {},
          "output_type": "display_data"
        },
        {
          "data": {
            "text/html": [
              " View sweep at <a href='https://wandb.ai/me21b118-iit-madras/DL_Assignment3%20without%20attention/sweeps/in4rwmxd' target=\"_blank\">https://wandb.ai/me21b118-iit-madras/DL_Assignment3%20without%20attention/sweeps/in4rwmxd</a>"
            ],
            "text/plain": [
              "<IPython.core.display.HTML object>"
            ]
          },
          "metadata": {},
          "output_type": "display_data"
        },
        {
          "data": {
            "text/html": [
              " View run at <a href='https://wandb.ai/me21b118-iit-madras/DL_Assignment3%20without%20attention/runs/uwqtscm4' target=\"_blank\">https://wandb.ai/me21b118-iit-madras/DL_Assignment3%20without%20attention/runs/uwqtscm4</a>"
            ],
            "text/plain": [
              "<IPython.core.display.HTML object>"
            ]
          },
          "metadata": {},
          "output_type": "display_data"
        },
        {
          "metadata": {
            "tags": null
          },
          "name": "stdout",
          "output_type": "stream",
          "text": [
            "decoder_layers exceeds encoder_layers; skipping this run.\n"
          ]
        },
        {
          "data": {
            "text/html": [],
            "text/plain": [
              "<IPython.core.display.HTML object>"
            ]
          },
          "metadata": {},
          "output_type": "display_data"
        },
        {
          "data": {
            "text/html": [
              " View run <strong style=\"color:#cdcd00\">fearless-sweep-27</strong> at: <a href='https://wandb.ai/me21b118-iit-madras/DL_Assignment3%20without%20attention/runs/uwqtscm4' target=\"_blank\">https://wandb.ai/me21b118-iit-madras/DL_Assignment3%20without%20attention/runs/uwqtscm4</a><br> View project at: <a href='https://wandb.ai/me21b118-iit-madras/DL_Assignment3%20without%20attention' target=\"_blank\">https://wandb.ai/me21b118-iit-madras/DL_Assignment3%20without%20attention</a><br>Synced 5 W&B file(s), 0 media file(s), 0 artifact file(s) and 0 other file(s)"
            ],
            "text/plain": [
              "<IPython.core.display.HTML object>"
            ]
          },
          "metadata": {},
          "output_type": "display_data"
        },
        {
          "data": {
            "text/html": [
              "Find logs at: <code>./wandb/run-20250521_095949-uwqtscm4/logs</code>"
            ],
            "text/plain": [
              "<IPython.core.display.HTML object>"
            ]
          },
          "metadata": {},
          "output_type": "display_data"
        },
        {
          "metadata": {
            "tags": null
          },
          "name": "stderr",
          "output_type": "stream",
          "text": [
            "\u001b[34m\u001b[1mwandb\u001b[0m: Agent Starting Run: glp719d4 with config:\n",
            "\u001b[34m\u001b[1mwandb\u001b[0m: \tbatch_size: 128\n",
            "\u001b[34m\u001b[1mwandb\u001b[0m: \tbeam_size: 1\n",
            "\u001b[34m\u001b[1mwandb\u001b[0m: \tcell_type: GRU\n",
            "\u001b[34m\u001b[1mwandb\u001b[0m: \tdecoder_layers: 1\n",
            "\u001b[34m\u001b[1mwandb\u001b[0m: \tdropout: 0.3\n",
            "\u001b[34m\u001b[1mwandb\u001b[0m: \tencoder_layers: 2\n",
            "\u001b[34m\u001b[1mwandb\u001b[0m: \tepochs: 30\n",
            "\u001b[34m\u001b[1mwandb\u001b[0m: \thidden_layer_size: 32\n",
            "\u001b[34m\u001b[1mwandb\u001b[0m: \trecurrent_dropout: 0\n"
          ]
        },
        {
          "data": {
            "text/html": [
              "Tracking run with wandb version 0.19.11"
            ],
            "text/plain": [
              "<IPython.core.display.HTML object>"
            ]
          },
          "metadata": {},
          "output_type": "display_data"
        },
        {
          "data": {
            "text/html": [
              "Run data is saved locally in <code>/content/wandb/run-20250521_095955-glp719d4</code>"
            ],
            "text/plain": [
              "<IPython.core.display.HTML object>"
            ]
          },
          "metadata": {},
          "output_type": "display_data"
        },
        {
          "data": {
            "text/html": [
              "Syncing run <strong><a href='https://wandb.ai/me21b118-iit-madras/DL_Assignment3%20without%20attention/runs/glp719d4' target=\"_blank\">youthful-sweep-28</a></strong> to <a href='https://wandb.ai/me21b118-iit-madras/DL_Assignment3%20without%20attention' target=\"_blank\">Weights & Biases</a> (<a href='https://wandb.me/developer-guide' target=\"_blank\">docs</a>)<br>Sweep page: <a href='https://wandb.ai/me21b118-iit-madras/DL_Assignment3%20without%20attention/sweeps/in4rwmxd' target=\"_blank\">https://wandb.ai/me21b118-iit-madras/DL_Assignment3%20without%20attention/sweeps/in4rwmxd</a>"
            ],
            "text/plain": [
              "<IPython.core.display.HTML object>"
            ]
          },
          "metadata": {},
          "output_type": "display_data"
        },
        {
          "data": {
            "text/html": [
              " View project at <a href='https://wandb.ai/me21b118-iit-madras/DL_Assignment3%20without%20attention' target=\"_blank\">https://wandb.ai/me21b118-iit-madras/DL_Assignment3%20without%20attention</a>"
            ],
            "text/plain": [
              "<IPython.core.display.HTML object>"
            ]
          },
          "metadata": {},
          "output_type": "display_data"
        },
        {
          "data": {
            "text/html": [
              " View sweep at <a href='https://wandb.ai/me21b118-iit-madras/DL_Assignment3%20without%20attention/sweeps/in4rwmxd' target=\"_blank\">https://wandb.ai/me21b118-iit-madras/DL_Assignment3%20without%20attention/sweeps/in4rwmxd</a>"
            ],
            "text/plain": [
              "<IPython.core.display.HTML object>"
            ]
          },
          "metadata": {},
          "output_type": "display_data"
        },
        {
          "data": {
            "text/html": [
              " View run at <a href='https://wandb.ai/me21b118-iit-madras/DL_Assignment3%20without%20attention/runs/glp719d4' target=\"_blank\">https://wandb.ai/me21b118-iit-madras/DL_Assignment3%20without%20attention/runs/glp719d4</a>"
            ],
            "text/plain": [
              "<IPython.core.display.HTML object>"
            ]
          },
          "metadata": {},
          "output_type": "display_data"
        },
        {
          "metadata": {
            "tags": null
          },
          "name": "stdout",
          "output_type": "stream",
          "text": [
            "Epoch 1/30\n",
            "\u001b[1m137/137\u001b[0m \u001b[32m━━━━━━━━━━━━━━━━━━━━\u001b[0m\u001b[37m\u001b[0m \u001b[1m2s\u001b[0m 11ms/step\n",
            "- WordAccuracy: 0.0\n",
            "\u001b[1m346/346\u001b[0m \u001b[32m━━━━━━━━━━━━━━━━━━━━\u001b[0m\u001b[37m\u001b[0m \u001b[1m29s\u001b[0m 74ms/step - accuracy: 0.0437 - loss: 1.3307 - val_accuracy: 0.0620 - val_loss: 1.1826 - WordAccuracy: 0.0000e+00\n",
            "Epoch 2/30\n",
            "\u001b[1m137/137\u001b[0m \u001b[32m━━━━━━━━━━━━━━━━━━━━\u001b[0m\u001b[37m\u001b[0m \u001b[1m1s\u001b[0m 7ms/step\n",
            "- WordAccuracy: 0.0\n",
            "\u001b[1m346/346\u001b[0m \u001b[32m━━━━━━━━━━━━━━━━━━━━\u001b[0m\u001b[37m\u001b[0m \u001b[1m21s\u001b[0m 61ms/step - accuracy: 0.0639 - loss: 1.2283 - val_accuracy: 0.0629 - val_loss: 1.1669 - WordAccuracy: 0.0000e+00\n",
            "Epoch 3/30\n",
            "\u001b[1m137/137\u001b[0m \u001b[32m━━━━━━━━━━━━━━━━━━━━\u001b[0m\u001b[37m\u001b[0m \u001b[1m1s\u001b[0m 7ms/step\n",
            "- WordAccuracy: 0.0\n",
            "\u001b[1m346/346\u001b[0m \u001b[32m━━━━━━━━━━━━━━━━━━━━\u001b[0m\u001b[37m\u001b[0m \u001b[1m42s\u001b[0m 65ms/step - accuracy: 0.0646 - loss: 1.2137 - val_accuracy: 0.0639 - val_loss: 1.1579 - WordAccuracy: 0.0000e+00\n",
            "Epoch 4/30\n",
            "\u001b[1m137/137\u001b[0m \u001b[32m━━━━━━━━━━━━━━━━━━━━\u001b[0m\u001b[37m\u001b[0m \u001b[1m1s\u001b[0m 7ms/step\n",
            "- WordAccuracy: 0.0\n",
            "\u001b[1m346/346\u001b[0m \u001b[32m━━━━━━━━━━━━━━━━━━━━\u001b[0m\u001b[37m\u001b[0m \u001b[1m43s\u001b[0m 72ms/step - accuracy: 0.0645 - loss: 1.2055 - val_accuracy: 0.0639 - val_loss: 1.1519 - WordAccuracy: 0.0000e+00\n",
            "Epoch 5/30\n",
            "\u001b[1m137/137\u001b[0m \u001b[32m━━━━━━━━━━━━━━━━━━━━\u001b[0m\u001b[37m\u001b[0m \u001b[1m1s\u001b[0m 8ms/step\n",
            "- WordAccuracy: 0.0\n",
            "\u001b[1m346/346\u001b[0m \u001b[32m━━━━━━━━━━━━━━━━━━━━\u001b[0m\u001b[37m\u001b[0m \u001b[1m39s\u001b[0m 67ms/step - accuracy: 0.0649 - loss: 1.1981 - val_accuracy: 0.0641 - val_loss: 1.1470 - WordAccuracy: 0.0000e+00\n",
            "Epoch 6/30\n",
            "\u001b[1m137/137\u001b[0m \u001b[32m━━━━━━━━━━━━━━━━━━━━\u001b[0m\u001b[37m\u001b[0m \u001b[1m1s\u001b[0m 7ms/step\n",
            "- WordAccuracy: 0.0\n",
            "\u001b[1m346/346\u001b[0m \u001b[32m━━━━━━━━━━━━━━━━━━━━\u001b[0m\u001b[37m\u001b[0m \u001b[1m41s\u001b[0m 68ms/step - accuracy: 0.0671 - loss: 1.1981 - val_accuracy: 0.0666 - val_loss: 1.1435 - WordAccuracy: 0.0000e+00\n",
            "Epoch 7/30\n",
            "\u001b[1m137/137\u001b[0m \u001b[32m━━━━━━━━━━━━━━━━━━━━\u001b[0m\u001b[37m\u001b[0m \u001b[1m1s\u001b[0m 7ms/step\n",
            "- WordAccuracy: 0.0\n",
            "\u001b[1m346/346\u001b[0m \u001b[32m━━━━━━━━━━━━━━━━━━━━\u001b[0m\u001b[37m\u001b[0m \u001b[1m40s\u001b[0m 64ms/step - accuracy: 0.0677 - loss: 1.1921 - val_accuracy: 0.0675 - val_loss: 1.1406 - WordAccuracy: 0.0000e+00\n",
            "Epoch 8/30\n",
            "\u001b[1m137/137\u001b[0m \u001b[32m━━━━━━━━━━━━━━━━━━━━\u001b[0m\u001b[37m\u001b[0m \u001b[1m1s\u001b[0m 7ms/step\n",
            "- WordAccuracy: 0.0\n",
            "\u001b[1m346/346\u001b[0m \u001b[32m━━━━━━━━━━━━━━━━━━━━\u001b[0m\u001b[37m\u001b[0m \u001b[1m40s\u001b[0m 61ms/step - accuracy: 0.0681 - loss: 1.1898 - val_accuracy: 0.0676 - val_loss: 1.1385 - WordAccuracy: 0.0000e+00\n",
            "Epoch 9/30\n",
            "\u001b[1m137/137\u001b[0m \u001b[32m━━━━━━━━━━━━━━━━━━━━\u001b[0m\u001b[37m\u001b[0m \u001b[1m1s\u001b[0m 7ms/step\n",
            "- WordAccuracy: 0.0\n",
            "\u001b[1m346/346\u001b[0m \u001b[32m━━━━━━━━━━━━━━━━━━━━\u001b[0m\u001b[37m\u001b[0m \u001b[1m41s\u001b[0m 62ms/step - accuracy: 0.0680 - loss: 1.1881 - val_accuracy: 0.0674 - val_loss: 1.1384 - WordAccuracy: 0.0000e+00\n",
            "Epoch 10/30\n",
            "\u001b[1m137/137\u001b[0m \u001b[32m━━━━━━━━━━━━━━━━━━━━\u001b[0m\u001b[37m\u001b[0m \u001b[1m1s\u001b[0m 9ms/step\n",
            "- WordAccuracy: 0.0\n",
            "\u001b[1m346/346\u001b[0m \u001b[32m━━━━━━━━━━━━━━━━━━━━\u001b[0m\u001b[37m\u001b[0m \u001b[1m23s\u001b[0m 67ms/step - accuracy: 0.0690 - loss: 1.1835 - val_accuracy: 0.0693 - val_loss: 1.1354 - WordAccuracy: 0.0000e+00\n",
            "Epoch 11/30\n",
            "\u001b[1m137/137\u001b[0m \u001b[32m━━━━━━━━━━━━━━━━━━━━\u001b[0m\u001b[37m\u001b[0m \u001b[1m1s\u001b[0m 7ms/step\n",
            "- WordAccuracy: 0.0\n",
            "\u001b[1m346/346\u001b[0m \u001b[32m━━━━━━━━━━━━━━━━━━━━\u001b[0m\u001b[37m\u001b[0m \u001b[1m21s\u001b[0m 62ms/step - accuracy: 0.0698 - loss: 1.1869 - val_accuracy: 0.0679 - val_loss: 1.1374 - WordAccuracy: 0.0000e+00\n",
            "Epoch 12/30\n",
            "\u001b[1m137/137\u001b[0m \u001b[32m━━━━━━━━━━━━━━━━━━━━\u001b[0m\u001b[37m\u001b[0m \u001b[1m1s\u001b[0m 7ms/step\n",
            "- WordAccuracy: 0.0\n",
            "\u001b[1m346/346\u001b[0m \u001b[32m━━━━━━━━━━━━━━━━━━━━\u001b[0m\u001b[37m\u001b[0m \u001b[1m41s\u001b[0m 61ms/step - accuracy: 0.0704 - loss: 1.1817 - val_accuracy: 0.0694 - val_loss: 1.1346 - WordAccuracy: 0.0000e+00\n",
            "Epoch 13/30\n",
            "\u001b[1m137/137\u001b[0m \u001b[32m━━━━━━━━━━━━━━━━━━━━\u001b[0m\u001b[37m\u001b[0m \u001b[1m1s\u001b[0m 7ms/step\n",
            "- WordAccuracy: 0.0\n",
            "\u001b[1m346/346\u001b[0m \u001b[32m━━━━━━━━━━━━━━━━━━━━\u001b[0m\u001b[37m\u001b[0m \u001b[1m23s\u001b[0m 68ms/step - accuracy: 0.0704 - loss: 1.1863 - val_accuracy: 0.0695 - val_loss: 1.1341 - WordAccuracy: 0.0000e+00\n",
            "Epoch 14/30\n",
            "\u001b[1m137/137\u001b[0m \u001b[32m━━━━━━━━━━━━━━━━━━━━\u001b[0m\u001b[37m\u001b[0m \u001b[1m1s\u001b[0m 7ms/step\n",
            "- WordAccuracy: 0.0\n",
            "\u001b[1m346/346\u001b[0m \u001b[32m━━━━━━━━━━━━━━━━━━━━\u001b[0m\u001b[37m\u001b[0m \u001b[1m21s\u001b[0m 62ms/step - accuracy: 0.0708 - loss: 1.1805 - val_accuracy: 0.0709 - val_loss: 1.1320 - WordAccuracy: 0.0000e+00\n",
            "Epoch 15/30\n",
            "\u001b[1m137/137\u001b[0m \u001b[32m━━━━━━━━━━━━━━━━━━━━\u001b[0m\u001b[37m\u001b[0m \u001b[1m1s\u001b[0m 7ms/step\n",
            "- WordAccuracy: 0.0\n",
            "\u001b[1m346/346\u001b[0m \u001b[32m━━━━━━━━━━━━━━━━━━━━\u001b[0m\u001b[37m\u001b[0m \u001b[1m24s\u001b[0m 69ms/step - accuracy: 0.0709 - loss: 1.1800 - val_accuracy: 0.0715 - val_loss: 1.1310 - WordAccuracy: 0.0000e+00\n",
            "Epoch 16/30\n",
            "\u001b[1m137/137\u001b[0m \u001b[32m━━━━━━━━━━━━━━━━━━━━\u001b[0m\u001b[37m\u001b[0m \u001b[1m1s\u001b[0m 7ms/step\n",
            "- WordAccuracy: 0.0\n",
            "\u001b[1m346/346\u001b[0m \u001b[32m━━━━━━━━━━━━━━━━━━━━\u001b[0m\u001b[37m\u001b[0m \u001b[1m21s\u001b[0m 62ms/step - accuracy: 0.0713 - loss: 1.1826 - val_accuracy: 0.0711 - val_loss: 1.1312 - WordAccuracy: 0.0000e+00\n",
            "Epoch 17/30\n",
            "\u001b[1m137/137\u001b[0m \u001b[32m━━━━━━━━━━━━━━━━━━━━\u001b[0m\u001b[37m\u001b[0m \u001b[1m1s\u001b[0m 7ms/step\n",
            "- WordAccuracy: 0.0\n",
            "\u001b[1m346/346\u001b[0m \u001b[32m━━━━━━━━━━━━━━━━━━━━\u001b[0m\u001b[37m\u001b[0m \u001b[1m41s\u001b[0m 62ms/step - accuracy: 0.0715 - loss: 1.1785 - val_accuracy: 0.0711 - val_loss: 1.1302 - WordAccuracy: 0.0000e+00\n",
            "Epoch 18/30\n",
            "\u001b[1m137/137\u001b[0m \u001b[32m━━━━━━━━━━━━━━━━━━━━\u001b[0m\u001b[37m\u001b[0m \u001b[1m1s\u001b[0m 8ms/step\n",
            "- WordAccuracy: 0.0\n",
            "\u001b[1m346/346\u001b[0m \u001b[32m━━━━━━━━━━━━━━━━━━━━\u001b[0m\u001b[37m\u001b[0m \u001b[1m41s\u001b[0m 62ms/step - accuracy: 0.0710 - loss: 1.1776 - val_accuracy: 0.0702 - val_loss: 1.1318 - WordAccuracy: 0.0000e+00\n",
            "Epoch 19/30\n",
            "\u001b[1m137/137\u001b[0m \u001b[32m━━━━━━━━━━━━━━━━━━━━\u001b[0m\u001b[37m\u001b[0m \u001b[1m1s\u001b[0m 10ms/step\n",
            "- WordAccuracy: 0.0\n",
            "\u001b[1m346/346\u001b[0m \u001b[32m━━━━━━━━━━━━━━━━━━━━\u001b[0m\u001b[37m\u001b[0m \u001b[1m42s\u001b[0m 63ms/step - accuracy: 0.0713 - loss: 1.1812 - val_accuracy: 0.0732 - val_loss: 1.1264 - WordAccuracy: 0.0000e+00\n",
            "Epoch 20/30\n",
            "\u001b[1m137/137\u001b[0m \u001b[32m━━━━━━━━━━━━━━━━━━━━\u001b[0m\u001b[37m\u001b[0m \u001b[1m1s\u001b[0m 9ms/step\n",
            "- WordAccuracy: 0.0\n",
            "\u001b[1m346/346\u001b[0m \u001b[32m━━━━━━━━━━━━━━━━━━━━\u001b[0m\u001b[37m\u001b[0m \u001b[1m42s\u001b[0m 66ms/step - accuracy: 0.0728 - loss: 1.1758 - val_accuracy: 0.0729 - val_loss: 1.1263 - WordAccuracy: 0.0000e+00\n",
            "Epoch 21/30\n",
            "\u001b[1m137/137\u001b[0m \u001b[32m━━━━━━━━━━━━━━━━━━━━\u001b[0m\u001b[37m\u001b[0m \u001b[1m1s\u001b[0m 7ms/step\n",
            "- WordAccuracy: 0.0\n",
            "\u001b[1m346/346\u001b[0m \u001b[32m━━━━━━━━━━━━━━━━━━━━\u001b[0m\u001b[37m\u001b[0m \u001b[1m41s\u001b[0m 67ms/step - accuracy: 0.0725 - loss: 1.1758 - val_accuracy: 0.0730 - val_loss: 1.1255 - WordAccuracy: 0.0000e+00\n",
            "Epoch 22/30\n",
            "\u001b[1m137/137\u001b[0m \u001b[32m━━━━━━━━━━━━━━━━━━━━\u001b[0m\u001b[37m\u001b[0m \u001b[1m1s\u001b[0m 7ms/step\n",
            "- WordAccuracy: 0.0\n",
            "\u001b[1m346/346\u001b[0m \u001b[32m━━━━━━━━━━━━━━━━━━━━\u001b[0m\u001b[37m\u001b[0m \u001b[1m40s\u001b[0m 65ms/step - accuracy: 0.0736 - loss: 1.1734 - val_accuracy: 0.0730 - val_loss: 1.1246 - WordAccuracy: 0.0000e+00\n",
            "Epoch 23/30\n",
            "\u001b[1m137/137\u001b[0m \u001b[32m━━━━━━━━━━━━━━━━━━━━\u001b[0m\u001b[37m\u001b[0m \u001b[1m1s\u001b[0m 7ms/step\n",
            "- WordAccuracy: 0.0\n",
            "\u001b[1m346/346\u001b[0m \u001b[32m━━━━━━━━━━━━━━━━━━━━\u001b[0m\u001b[37m\u001b[0m \u001b[1m40s\u001b[0m 63ms/step - accuracy: 0.0733 - loss: 1.1720 - val_accuracy: 0.0731 - val_loss: 1.1234 - WordAccuracy: 0.0000e+00\n",
            "Epoch 24/30\n",
            "\u001b[1m137/137\u001b[0m \u001b[32m━━━━━━━━━━━━━━━━━━━━\u001b[0m\u001b[37m\u001b[0m \u001b[1m1s\u001b[0m 7ms/step\n",
            "- WordAccuracy: 0.0\n",
            "\u001b[1m346/346\u001b[0m \u001b[32m━━━━━━━━━━━━━━━━━━━━\u001b[0m\u001b[37m\u001b[0m \u001b[1m41s\u001b[0m 62ms/step - accuracy: 0.0737 - loss: 1.1705 - val_accuracy: 0.0729 - val_loss: 1.1228 - WordAccuracy: 0.0000e+00\n",
            "Epoch 25/30\n",
            "\u001b[1m137/137\u001b[0m \u001b[32m━━━━━━━━━━━━━━━━━━━━\u001b[0m\u001b[37m\u001b[0m \u001b[1m1s\u001b[0m 7ms/step\n",
            "- WordAccuracy: 0.0\n",
            "\u001b[1m346/346\u001b[0m \u001b[32m━━━━━━━━━━━━━━━━━━━━\u001b[0m\u001b[37m\u001b[0m \u001b[1m41s\u001b[0m 61ms/step - accuracy: 0.0739 - loss: 1.1697 - val_accuracy: 0.0729 - val_loss: 1.1221 - WordAccuracy: 0.0000e+00\n",
            "Epoch 26/30\n",
            "\u001b[1m137/137\u001b[0m \u001b[32m━━━━━━━━━━━━━━━━━━━━\u001b[0m\u001b[37m\u001b[0m \u001b[1m1s\u001b[0m 7ms/step\n",
            "- WordAccuracy: 0.0\n",
            "\u001b[1m346/346\u001b[0m \u001b[32m━━━━━━━━━━━━━━━━━━━━\u001b[0m\u001b[37m\u001b[0m \u001b[1m41s\u001b[0m 63ms/step - accuracy: 0.0741 - loss: 1.1691 - val_accuracy: 0.0731 - val_loss: 1.1211 - WordAccuracy: 0.0000e+00\n",
            "Epoch 27/30\n",
            "\u001b[1m137/137\u001b[0m \u001b[32m━━━━━━━━━━━━━━━━━━━━\u001b[0m\u001b[37m\u001b[0m \u001b[1m1s\u001b[0m 10ms/step\n",
            "- WordAccuracy: 0.0\n",
            "\u001b[1m346/346\u001b[0m \u001b[32m━━━━━━━━━━━━━━━━━━━━\u001b[0m\u001b[37m\u001b[0m \u001b[1m24s\u001b[0m 68ms/step - accuracy: 0.0739 - loss: 1.1633 - val_accuracy: 0.0734 - val_loss: 1.1193 - WordAccuracy: 0.0000e+00\n",
            "Epoch 28/30\n",
            "\u001b[1m137/137\u001b[0m \u001b[32m━━━━━━━━━━━━━━━━━━━━\u001b[0m\u001b[37m\u001b[0m \u001b[1m1s\u001b[0m 7ms/step\n",
            "- WordAccuracy: 0.0\n",
            "\u001b[1m346/346\u001b[0m \u001b[32m━━━━━━━━━━━━━━━━━━━━\u001b[0m\u001b[37m\u001b[0m \u001b[1m22s\u001b[0m 63ms/step - accuracy: 0.0738 - loss: 1.1652 - val_accuracy: 0.0736 - val_loss: 1.1186 - WordAccuracy: 0.0000e+00\n",
            "Epoch 29/30\n",
            "\u001b[1m137/137\u001b[0m \u001b[32m━━━━━━━━━━━━━━━━━━━━\u001b[0m\u001b[37m\u001b[0m \u001b[1m1s\u001b[0m 10ms/step\n",
            "- WordAccuracy: 0.0\n",
            "\u001b[1m346/346\u001b[0m \u001b[32m━━━━━━━━━━━━━━━━━━━━\u001b[0m\u001b[37m\u001b[0m \u001b[1m24s\u001b[0m 68ms/step - accuracy: 0.0749 - loss: 1.1666 - val_accuracy: 0.0736 - val_loss: 1.1174 - WordAccuracy: 0.0000e+00\n",
            "Epoch 30/30\n",
            "\u001b[1m137/137\u001b[0m \u001b[32m━━━━━━━━━━━━━━━━━━━━\u001b[0m\u001b[37m\u001b[0m \u001b[1m1s\u001b[0m 7ms/step\n",
            "- WordAccuracy: 0.0\n",
            "\u001b[1m346/346\u001b[0m \u001b[32m━━━━━━━━━━━━━━━━━━━━\u001b[0m\u001b[37m\u001b[0m \u001b[1m21s\u001b[0m 62ms/step - accuracy: 0.0744 - loss: 1.1648 - val_accuracy: 0.0740 - val_loss: 1.1150 - WordAccuracy: 0.0000e+00\n"
          ]
        },
        {
          "data": {
            "text/html": [],
            "text/plain": [
              "<IPython.core.display.HTML object>"
            ]
          },
          "metadata": {},
          "output_type": "display_data"
        },
        {
          "data": {
            "text/html": [
              "<br>    <style><br>        .wandb-row {<br>            display: flex;<br>            flex-direction: row;<br>            flex-wrap: wrap;<br>            justify-content: flex-start;<br>            width: 100%;<br>        }<br>        .wandb-col {<br>            display: flex;<br>            flex-direction: column;<br>            flex-basis: 100%;<br>            flex: 1;<br>            padding: 10px;<br>        }<br>    </style><br><div class=\"wandb-row\"><div class=\"wandb-col\"><h3>Run history:</h3><br/><table class=\"wandb\"><tr><td>epoch/WordAccuracy</td><td>▁▁▁▁▁▁▁▁▁▁▁▁▁▁▁▁▁▁▁▁▁▁▁▁▁▁▁▁▁▁</td></tr><tr><td>epoch/accuracy</td><td>▁▅▅▅▅▆▆▆▆▆▆▇▇▇▇▇▇▇▇▇▇█████████</td></tr><tr><td>epoch/epoch</td><td>▁▁▁▂▂▂▂▃▃▃▃▄▄▄▄▅▅▅▅▆▆▆▆▇▇▇▇███</td></tr><tr><td>epoch/learning_rate</td><td>▁▁▁▁▁▁▁▁▁▁▁▁▁▁▁▁▁▁▁▁▁▁▁▁▁▁▁▁▁▁</td></tr><tr><td>epoch/loss</td><td>█▅▄▃▃▃▃▃▂▂▂▂▂▂▂▂▂▂▂▂▂▂▁▁▁▁▁▁▁▁</td></tr><tr><td>epoch/val_accuracy</td><td>▁▁▂▂▂▄▄▄▄▅▄▅▅▆▇▆▆▆█▇▇▇█▇▇█████</td></tr><tr><td>epoch/val_loss</td><td>█▆▅▅▄▄▄▃▃▃▃▃▃▃▃▃▃▃▂▂▂▂▂▂▂▂▁▁▁▁</td></tr></table><br/></div><div class=\"wandb-col\"><h3>Run summary:</h3><br/><table class=\"wandb\"><tr><td>epoch/WordAccuracy</td><td>0</td></tr><tr><td>epoch/accuracy</td><td>0.07422</td></tr><tr><td>epoch/epoch</td><td>29</td></tr><tr><td>epoch/learning_rate</td><td>0.001</td></tr><tr><td>epoch/loss</td><td>1.16456</td></tr><tr><td>epoch/val_accuracy</td><td>0.07396</td></tr><tr><td>epoch/val_loss</td><td>1.11496</td></tr></table><br/></div></div>"
            ],
            "text/plain": [
              "<IPython.core.display.HTML object>"
            ]
          },
          "metadata": {},
          "output_type": "display_data"
        },
        {
          "data": {
            "text/html": [
              " View run <strong style=\"color:#cdcd00\">youthful-sweep-28</strong> at: <a href='https://wandb.ai/me21b118-iit-madras/DL_Assignment3%20without%20attention/runs/glp719d4' target=\"_blank\">https://wandb.ai/me21b118-iit-madras/DL_Assignment3%20without%20attention/runs/glp719d4</a><br> View project at: <a href='https://wandb.ai/me21b118-iit-madras/DL_Assignment3%20without%20attention' target=\"_blank\">https://wandb.ai/me21b118-iit-madras/DL_Assignment3%20without%20attention</a><br>Synced 5 W&B file(s), 0 media file(s), 0 artifact file(s) and 0 other file(s)"
            ],
            "text/plain": [
              "<IPython.core.display.HTML object>"
            ]
          },
          "metadata": {},
          "output_type": "display_data"
        },
        {
          "data": {
            "text/html": [
              "Find logs at: <code>./wandb/run-20250521_095955-glp719d4/logs</code>"
            ],
            "text/plain": [
              "<IPython.core.display.HTML object>"
            ]
          },
          "metadata": {},
          "output_type": "display_data"
        },
        {
          "metadata": {
            "tags": null
          },
          "name": "stderr",
          "output_type": "stream",
          "text": [
            "\u001b[34m\u001b[1mwandb\u001b[0m: Agent Starting Run: 8yydn25t with config:\n",
            "\u001b[34m\u001b[1mwandb\u001b[0m: \tbatch_size: 32\n",
            "\u001b[34m\u001b[1mwandb\u001b[0m: \tbeam_size: 5\n",
            "\u001b[34m\u001b[1mwandb\u001b[0m: \tcell_type: GRU\n",
            "\u001b[34m\u001b[1mwandb\u001b[0m: \tdecoder_layers: 1\n",
            "\u001b[34m\u001b[1mwandb\u001b[0m: \tdropout: 0.2\n",
            "\u001b[34m\u001b[1mwandb\u001b[0m: \tencoder_layers: 1\n",
            "\u001b[34m\u001b[1mwandb\u001b[0m: \tepochs: 20\n",
            "\u001b[34m\u001b[1mwandb\u001b[0m: \thidden_layer_size: 16\n",
            "\u001b[34m\u001b[1mwandb\u001b[0m: \trecurrent_dropout: 0.2\n"
          ]
        },
        {
          "data": {
            "text/html": [
              "Tracking run with wandb version 0.19.11"
            ],
            "text/plain": [
              "<IPython.core.display.HTML object>"
            ]
          },
          "metadata": {},
          "output_type": "display_data"
        },
        {
          "data": {
            "text/html": [
              "Run data is saved locally in <code>/content/wandb/run-20250521_101714-8yydn25t</code>"
            ],
            "text/plain": [
              "<IPython.core.display.HTML object>"
            ]
          },
          "metadata": {},
          "output_type": "display_data"
        },
        {
          "data": {
            "text/html": [
              "Syncing run <strong><a href='https://wandb.ai/me21b118-iit-madras/DL_Assignment3%20without%20attention/runs/8yydn25t' target=\"_blank\">morning-sweep-29</a></strong> to <a href='https://wandb.ai/me21b118-iit-madras/DL_Assignment3%20without%20attention' target=\"_blank\">Weights & Biases</a> (<a href='https://wandb.me/developer-guide' target=\"_blank\">docs</a>)<br>Sweep page: <a href='https://wandb.ai/me21b118-iit-madras/DL_Assignment3%20without%20attention/sweeps/in4rwmxd' target=\"_blank\">https://wandb.ai/me21b118-iit-madras/DL_Assignment3%20without%20attention/sweeps/in4rwmxd</a>"
            ],
            "text/plain": [
              "<IPython.core.display.HTML object>"
            ]
          },
          "metadata": {},
          "output_type": "display_data"
        },
        {
          "data": {
            "text/html": [
              " View project at <a href='https://wandb.ai/me21b118-iit-madras/DL_Assignment3%20without%20attention' target=\"_blank\">https://wandb.ai/me21b118-iit-madras/DL_Assignment3%20without%20attention</a>"
            ],
            "text/plain": [
              "<IPython.core.display.HTML object>"
            ]
          },
          "metadata": {},
          "output_type": "display_data"
        },
        {
          "data": {
            "text/html": [
              " View sweep at <a href='https://wandb.ai/me21b118-iit-madras/DL_Assignment3%20without%20attention/sweeps/in4rwmxd' target=\"_blank\">https://wandb.ai/me21b118-iit-madras/DL_Assignment3%20without%20attention/sweeps/in4rwmxd</a>"
            ],
            "text/plain": [
              "<IPython.core.display.HTML object>"
            ]
          },
          "metadata": {},
          "output_type": "display_data"
        },
        {
          "data": {
            "text/html": [
              " View run at <a href='https://wandb.ai/me21b118-iit-madras/DL_Assignment3%20without%20attention/runs/8yydn25t' target=\"_blank\">https://wandb.ai/me21b118-iit-madras/DL_Assignment3%20without%20attention/runs/8yydn25t</a>"
            ],
            "text/plain": [
              "<IPython.core.display.HTML object>"
            ]
          },
          "metadata": {},
          "output_type": "display_data"
        },
        {
          "metadata": {
            "tags": null
          },
          "name": "stdout",
          "output_type": "stream",
          "text": [
            "Epoch 1/20\n",
            "\u001b[1m137/137\u001b[0m \u001b[32m━━━━━━━━━━━━━━━━━━━━\u001b[0m\u001b[37m\u001b[0m \u001b[1m3s\u001b[0m 17ms/step\n",
            "- WordAccuracy: 0.0\n",
            "\u001b[1m1382/1382\u001b[0m \u001b[32m━━━━━━━━━━━━━━━━━━━━\u001b[0m\u001b[37m\u001b[0m \u001b[1m94s\u001b[0m 63ms/step - accuracy: 0.0465 - loss: 1.2632 - val_accuracy: 0.0519 - val_loss: 1.1503 - WordAccuracy: 0.0000e+00\n",
            "Epoch 2/20\n",
            "\u001b[1m137/137\u001b[0m \u001b[32m━━━━━━━━━━━━━━━━━━━━\u001b[0m\u001b[37m\u001b[0m \u001b[1m1s\u001b[0m 7ms/step\n",
            "- WordAccuracy: 0.0\n",
            "\u001b[1m1382/1382\u001b[0m \u001b[32m━━━━━━━━━━━━━━━━━━━━\u001b[0m\u001b[37m\u001b[0m \u001b[1m130s\u001b[0m 54ms/step - accuracy: 0.0525 - loss: 1.1973 - val_accuracy: 0.0582 - val_loss: 1.1483 - WordAccuracy: 0.0000e+00\n",
            "Epoch 3/20\n",
            "\u001b[1m137/137\u001b[0m \u001b[32m━━━━━━━━━━━━━━━━━━━━\u001b[0m\u001b[37m\u001b[0m \u001b[1m1s\u001b[0m 8ms/step\n",
            "- WordAccuracy: 0.0\n",
            "\u001b[1m1382/1382\u001b[0m \u001b[32m━━━━━━━━━━━━━━━━━━━━\u001b[0m\u001b[37m\u001b[0m \u001b[1m74s\u001b[0m 53ms/step - accuracy: 0.0588 - loss: 1.1980 - val_accuracy: 0.0582 - val_loss: 1.1531 - WordAccuracy: 0.0000e+00\n",
            "Epoch 4/20\n",
            "\u001b[1m137/137\u001b[0m \u001b[32m━━━━━━━━━━━━━━━━━━━━\u001b[0m\u001b[37m\u001b[0m \u001b[1m1s\u001b[0m 7ms/step\n",
            "- WordAccuracy: 0.0\n",
            "\u001b[1m1382/1382\u001b[0m \u001b[32m━━━━━━━━━━━━━━━━━━━━\u001b[0m\u001b[37m\u001b[0m \u001b[1m73s\u001b[0m 53ms/step - accuracy: 0.0569 - loss: 1.2021 - val_accuracy: 0.0309 - val_loss: 1.1573 - WordAccuracy: 0.0000e+00\n",
            "Epoch 5/20\n",
            "\u001b[1m137/137\u001b[0m \u001b[32m━━━━━━━━━━━━━━━━━━━━\u001b[0m\u001b[37m\u001b[0m \u001b[1m1s\u001b[0m 8ms/step\n",
            "- WordAccuracy: 0.0\n",
            "\u001b[1m1382/1382\u001b[0m \u001b[32m━━━━━━━━━━━━━━━━━━━━\u001b[0m\u001b[37m\u001b[0m \u001b[1m83s\u001b[0m 54ms/step - accuracy: 0.0344 - loss: 1.2035 - val_accuracy: 0.0309 - val_loss: 1.1555 - WordAccuracy: 0.0000e+00\n",
            "Epoch 6/20\n",
            "\u001b[1m137/137\u001b[0m \u001b[32m━━━━━━━━━━━━━━━━━━━━\u001b[0m\u001b[37m\u001b[0m \u001b[1m1s\u001b[0m 8ms/step\n",
            "- WordAccuracy: 0.0\n",
            "\u001b[1m1382/1382\u001b[0m \u001b[32m━━━━━━━━━━━━━━━━━━━━\u001b[0m\u001b[37m\u001b[0m \u001b[1m82s\u001b[0m 53ms/step - accuracy: 0.0346 - loss: 1.2008 - val_accuracy: 0.0314 - val_loss: 1.1523 - WordAccuracy: 0.0000e+00\n",
            "Epoch 7/20\n",
            "\u001b[1m137/137\u001b[0m \u001b[32m━━━━━━━━━━━━━━━━━━━━\u001b[0m\u001b[37m\u001b[0m \u001b[1m1s\u001b[0m 8ms/step\n",
            "- WordAccuracy: 0.0\n",
            "\u001b[1m1382/1382\u001b[0m \u001b[32m━━━━━━━━━━━━━━━━━━━━\u001b[0m\u001b[37m\u001b[0m \u001b[1m82s\u001b[0m 54ms/step - accuracy: 0.0356 - loss: 1.2008 - val_accuracy: 0.0313 - val_loss: 1.1507 - WordAccuracy: 0.0000e+00\n",
            "Epoch 8/20\n",
            "\u001b[1m137/137\u001b[0m \u001b[32m━━━━━━━━━━━━━━━━━━━━\u001b[0m\u001b[37m\u001b[0m \u001b[1m1s\u001b[0m 8ms/step\n",
            "- WordAccuracy: 0.0\n",
            "\u001b[1m1382/1382\u001b[0m \u001b[32m━━━━━━━━━━━━━━━━━━━━\u001b[0m\u001b[37m\u001b[0m \u001b[1m83s\u001b[0m 54ms/step - accuracy: 0.0357 - loss: 1.1943 - val_accuracy: 0.0320 - val_loss: 1.1484 - WordAccuracy: 0.0000e+00\n",
            "Epoch 9/20\n",
            "\u001b[1m137/137\u001b[0m \u001b[32m━━━━━━━━━━━━━━━━━━━━\u001b[0m\u001b[37m\u001b[0m \u001b[1m1s\u001b[0m 8ms/step\n",
            "- WordAccuracy: 0.0\n",
            "\u001b[1m1382/1382\u001b[0m \u001b[32m━━━━━━━━━━━━━━━━━━━━\u001b[0m\u001b[37m\u001b[0m \u001b[1m75s\u001b[0m 54ms/step - accuracy: 0.0359 - loss: 1.1961 - val_accuracy: 0.0320 - val_loss: 1.1469 - WordAccuracy: 0.0000e+00\n",
            "Epoch 10/20\n",
            "\u001b[1m137/137\u001b[0m \u001b[32m━━━━━━━━━━━━━━━━━━━━\u001b[0m\u001b[37m\u001b[0m \u001b[1m1s\u001b[0m 8ms/step\n",
            "- WordAccuracy: 0.0\n",
            "\u001b[1m1382/1382\u001b[0m \u001b[32m━━━━━━━━━━━━━━━━━━━━\u001b[0m\u001b[37m\u001b[0m \u001b[1m81s\u001b[0m 54ms/step - accuracy: 0.0362 - loss: 1.1904 - val_accuracy: 0.0322 - val_loss: 1.1456 - WordAccuracy: 0.0000e+00\n",
            "Epoch 11/20\n",
            "\u001b[1m137/137\u001b[0m \u001b[32m━━━━━━━━━━━━━━━━━━━━\u001b[0m\u001b[37m\u001b[0m \u001b[1m1s\u001b[0m 7ms/step\n",
            "- WordAccuracy: 0.0\n",
            "\u001b[1m1382/1382\u001b[0m \u001b[32m━━━━━━━━━━━━━━━━━━━━\u001b[0m\u001b[37m\u001b[0m \u001b[1m80s\u001b[0m 53ms/step - accuracy: 0.0366 - loss: 1.1958 - val_accuracy: 0.0320 - val_loss: 1.1441 - WordAccuracy: 0.0000e+00\n",
            "Epoch 12/20\n",
            "\u001b[1m137/137\u001b[0m \u001b[32m━━━━━━━━━━━━━━━━━━━━\u001b[0m\u001b[37m\u001b[0m \u001b[1m1s\u001b[0m 7ms/step\n",
            "- WordAccuracy: 0.0\n",
            "\u001b[1m1382/1382\u001b[0m \u001b[32m━━━━━━━━━━━━━━━━━━━━\u001b[0m\u001b[37m\u001b[0m \u001b[1m83s\u001b[0m 54ms/step - accuracy: 0.0365 - loss: 1.1885 - val_accuracy: 0.0333 - val_loss: 1.1432 - WordAccuracy: 0.0000e+00\n",
            "Epoch 13/20\n",
            "\u001b[1m137/137\u001b[0m \u001b[32m━━━━━━━━━━━━━━━━━━━━\u001b[0m\u001b[37m\u001b[0m \u001b[1m1s\u001b[0m 7ms/step\n",
            "- WordAccuracy: 0.0\n",
            "\u001b[1m1382/1382\u001b[0m \u001b[32m━━━━━━━━━━━━━━━━━━━━\u001b[0m\u001b[37m\u001b[0m \u001b[1m82s\u001b[0m 54ms/step - accuracy: 0.0367 - loss: 1.1888 - val_accuracy: 0.0337 - val_loss: 1.1422 - WordAccuracy: 0.0000e+00\n",
            "Epoch 14/20\n",
            "\u001b[1m137/137\u001b[0m \u001b[32m━━━━━━━━━━━━━━━━━━━━\u001b[0m\u001b[37m\u001b[0m \u001b[1m1s\u001b[0m 7ms/step\n",
            "- WordAccuracy: 0.0\n",
            "\u001b[1m1382/1382\u001b[0m \u001b[32m━━━━━━━━━━━━━━━━━━━━\u001b[0m\u001b[37m\u001b[0m \u001b[1m81s\u001b[0m 53ms/step - accuracy: 0.0372 - loss: 1.1888 - val_accuracy: 0.0338 - val_loss: 1.1413 - WordAccuracy: 0.0000e+00\n",
            "Epoch 15/20\n",
            "\u001b[1m137/137\u001b[0m \u001b[32m━━━━━━━━━━━━━━━━━━━━\u001b[0m\u001b[37m\u001b[0m \u001b[1m1s\u001b[0m 8ms/step\n",
            "- WordAccuracy: 0.0\n",
            "\u001b[1m1382/1382\u001b[0m \u001b[32m━━━━━━━━━━━━━━━━━━━━\u001b[0m\u001b[37m\u001b[0m \u001b[1m83s\u001b[0m 54ms/step - accuracy: 0.0373 - loss: 1.1861 - val_accuracy: 0.0342 - val_loss: 1.1399 - WordAccuracy: 0.0000e+00\n",
            "Epoch 16/20\n",
            "\u001b[1m137/137\u001b[0m \u001b[32m━━━━━━━━━━━━━━━━━━━━\u001b[0m\u001b[37m\u001b[0m \u001b[1m1s\u001b[0m 8ms/step\n",
            "- WordAccuracy: 0.0\n",
            "\u001b[1m1382/1382\u001b[0m \u001b[32m━━━━━━━━━━━━━━━━━━━━\u001b[0m\u001b[37m\u001b[0m \u001b[1m75s\u001b[0m 54ms/step - accuracy: 0.0374 - loss: 1.1872 - val_accuracy: 0.0344 - val_loss: 1.1392 - WordAccuracy: 0.0000e+00\n",
            "Epoch 17/20\n",
            "\u001b[1m137/137\u001b[0m \u001b[32m━━━━━━━━━━━━━━━━━━━━\u001b[0m\u001b[37m\u001b[0m \u001b[1m1s\u001b[0m 7ms/step\n",
            "- WordAccuracy: 0.0\n",
            "\u001b[1m1382/1382\u001b[0m \u001b[32m━━━━━━━━━━━━━━━━━━━━\u001b[0m\u001b[37m\u001b[0m \u001b[1m81s\u001b[0m 54ms/step - accuracy: 0.0376 - loss: 1.1846 - val_accuracy: 0.0343 - val_loss: 1.1382 - WordAccuracy: 0.0000e+00\n",
            "Epoch 18/20\n",
            "\u001b[1m137/137\u001b[0m \u001b[32m━━━━━━━━━━━━━━━━━━━━\u001b[0m\u001b[37m\u001b[0m \u001b[1m1s\u001b[0m 7ms/step\n",
            "- WordAccuracy: 0.0\n",
            "\u001b[1m1382/1382\u001b[0m \u001b[32m━━━━━━━━━━━━━━━━━━━━\u001b[0m\u001b[37m\u001b[0m \u001b[1m80s\u001b[0m 53ms/step - accuracy: 0.0375 - loss: 1.1867 - val_accuracy: 0.0345 - val_loss: 1.1380 - WordAccuracy: 0.0000e+00\n",
            "Epoch 19/20\n",
            "\u001b[1m137/137\u001b[0m \u001b[32m━━━━━━━━━━━━━━━━━━━━\u001b[0m\u001b[37m\u001b[0m \u001b[1m1s\u001b[0m 8ms/step\n",
            "- WordAccuracy: 0.0\n",
            "\u001b[1m1382/1382\u001b[0m \u001b[32m━━━━━━━━━━━━━━━━━━━━\u001b[0m\u001b[37m\u001b[0m \u001b[1m73s\u001b[0m 52ms/step - accuracy: 0.0378 - loss: 1.1822 - val_accuracy: 0.0345 - val_loss: 1.1364 - WordAccuracy: 0.0000e+00\n",
            "Epoch 20/20\n",
            "\u001b[1m137/137\u001b[0m \u001b[32m━━━━━━━━━━━━━━━━━━━━\u001b[0m\u001b[37m\u001b[0m \u001b[1m1s\u001b[0m 8ms/step\n",
            "- WordAccuracy: 0.0\n",
            "\u001b[1m1382/1382\u001b[0m \u001b[32m━━━━━━━━━━━━━━━━━━━━\u001b[0m\u001b[37m\u001b[0m \u001b[1m83s\u001b[0m 53ms/step - accuracy: 0.0378 - loss: 1.1853 - val_accuracy: 0.0346 - val_loss: 1.1355 - WordAccuracy: 0.0000e+00\n"
          ]
        },
        {
          "data": {
            "text/html": [],
            "text/plain": [
              "<IPython.core.display.HTML object>"
            ]
          },
          "metadata": {},
          "output_type": "display_data"
        },
        {
          "data": {
            "text/html": [
              "<br>    <style><br>        .wandb-row {<br>            display: flex;<br>            flex-direction: row;<br>            flex-wrap: wrap;<br>            justify-content: flex-start;<br>            width: 100%;<br>        }<br>        .wandb-col {<br>            display: flex;<br>            flex-direction: column;<br>            flex-basis: 100%;<br>            flex: 1;<br>            padding: 10px;<br>        }<br>    </style><br><div class=\"wandb-row\"><div class=\"wandb-col\"><h3>Run history:</h3><br/><table class=\"wandb\"><tr><td>epoch/WordAccuracy</td><td>▁▁▁▁▁▁▁▁▁▁▁▁▁▁▁▁▁▁▁▁</td></tr><tr><td>epoch/accuracy</td><td>▅▇█▅▁▁▁▁▂▂▂▂▂▂▂▂▂▂▂▂</td></tr><tr><td>epoch/epoch</td><td>▁▁▂▂▂▃▃▄▄▄▅▅▅▆▆▇▇▇██</td></tr><tr><td>epoch/learning_rate</td><td>▁▁▁▁▁▁▁▁▁▁▁▁▁▁▁▁▁▁▁▁</td></tr><tr><td>epoch/loss</td><td>█▃▄▄▄▄▄▃▃▃▂▂▂▂▂▂▁▁▁▁</td></tr><tr><td>epoch/val_accuracy</td><td>▆██▁▁▁▁▁▁▁▁▂▂▂▂▂▂▂▂▂</td></tr><tr><td>epoch/val_loss</td><td>▆▅▇█▇▆▆▅▅▄▄▃▃▃▂▂▂▂▁▁</td></tr></table><br/></div><div class=\"wandb-col\"><h3>Run summary:</h3><br/><table class=\"wandb\"><tr><td>epoch/WordAccuracy</td><td>0</td></tr><tr><td>epoch/accuracy</td><td>0.03785</td></tr><tr><td>epoch/epoch</td><td>19</td></tr><tr><td>epoch/learning_rate</td><td>0.001</td></tr><tr><td>epoch/loss</td><td>1.18278</td></tr><tr><td>epoch/val_accuracy</td><td>0.03461</td></tr><tr><td>epoch/val_loss</td><td>1.13553</td></tr></table><br/></div></div>"
            ],
            "text/plain": [
              "<IPython.core.display.HTML object>"
            ]
          },
          "metadata": {},
          "output_type": "display_data"
        },
        {
          "data": {
            "text/html": [
              " View run <strong style=\"color:#cdcd00\">morning-sweep-29</strong> at: <a href='https://wandb.ai/me21b118-iit-madras/DL_Assignment3%20without%20attention/runs/8yydn25t' target=\"_blank\">https://wandb.ai/me21b118-iit-madras/DL_Assignment3%20without%20attention/runs/8yydn25t</a><br> View project at: <a href='https://wandb.ai/me21b118-iit-madras/DL_Assignment3%20without%20attention' target=\"_blank\">https://wandb.ai/me21b118-iit-madras/DL_Assignment3%20without%20attention</a><br>Synced 5 W&B file(s), 0 media file(s), 0 artifact file(s) and 0 other file(s)"
            ],
            "text/plain": [
              "<IPython.core.display.HTML object>"
            ]
          },
          "metadata": {},
          "output_type": "display_data"
        },
        {
          "data": {
            "text/html": [
              "Find logs at: <code>./wandb/run-20250521_101714-8yydn25t/logs</code>"
            ],
            "text/plain": [
              "<IPython.core.display.HTML object>"
            ]
          },
          "metadata": {},
          "output_type": "display_data"
        },
        {
          "metadata": {
            "tags": null
          },
          "name": "stderr",
          "output_type": "stream",
          "text": [
            "\u001b[34m\u001b[1mwandb\u001b[0m: Agent Starting Run: q4xhb7z8 with config:\n",
            "\u001b[34m\u001b[1mwandb\u001b[0m: \tbatch_size: 64\n",
            "\u001b[34m\u001b[1mwandb\u001b[0m: \tbeam_size: 5\n",
            "\u001b[34m\u001b[1mwandb\u001b[0m: \tcell_type: LSTM\n",
            "\u001b[34m\u001b[1mwandb\u001b[0m: \tdecoder_layers: 3\n",
            "\u001b[34m\u001b[1mwandb\u001b[0m: \tdropout: 0.3\n",
            "\u001b[34m\u001b[1mwandb\u001b[0m: \tencoder_layers: 3\n",
            "\u001b[34m\u001b[1mwandb\u001b[0m: \tepochs: 20\n",
            "\u001b[34m\u001b[1mwandb\u001b[0m: \thidden_layer_size: 16\n",
            "\u001b[34m\u001b[1mwandb\u001b[0m: \trecurrent_dropout: 0\n"
          ]
        },
        {
          "data": {
            "text/html": [
              "Tracking run with wandb version 0.19.11"
            ],
            "text/plain": [
              "<IPython.core.display.HTML object>"
            ]
          },
          "metadata": {},
          "output_type": "display_data"
        },
        {
          "data": {
            "text/html": [
              "Run data is saved locally in <code>/content/wandb/run-20250521_104504-q4xhb7z8</code>"
            ],
            "text/plain": [
              "<IPython.core.display.HTML object>"
            ]
          },
          "metadata": {},
          "output_type": "display_data"
        },
        {
          "data": {
            "text/html": [
              "Syncing run <strong><a href='https://wandb.ai/me21b118-iit-madras/DL_Assignment3%20without%20attention/runs/q4xhb7z8' target=\"_blank\">firm-sweep-30</a></strong> to <a href='https://wandb.ai/me21b118-iit-madras/DL_Assignment3%20without%20attention' target=\"_blank\">Weights & Biases</a> (<a href='https://wandb.me/developer-guide' target=\"_blank\">docs</a>)<br>Sweep page: <a href='https://wandb.ai/me21b118-iit-madras/DL_Assignment3%20without%20attention/sweeps/in4rwmxd' target=\"_blank\">https://wandb.ai/me21b118-iit-madras/DL_Assignment3%20without%20attention/sweeps/in4rwmxd</a>"
            ],
            "text/plain": [
              "<IPython.core.display.HTML object>"
            ]
          },
          "metadata": {},
          "output_type": "display_data"
        },
        {
          "data": {
            "text/html": [
              " View project at <a href='https://wandb.ai/me21b118-iit-madras/DL_Assignment3%20without%20attention' target=\"_blank\">https://wandb.ai/me21b118-iit-madras/DL_Assignment3%20without%20attention</a>"
            ],
            "text/plain": [
              "<IPython.core.display.HTML object>"
            ]
          },
          "metadata": {},
          "output_type": "display_data"
        },
        {
          "data": {
            "text/html": [
              " View sweep at <a href='https://wandb.ai/me21b118-iit-madras/DL_Assignment3%20without%20attention/sweeps/in4rwmxd' target=\"_blank\">https://wandb.ai/me21b118-iit-madras/DL_Assignment3%20without%20attention/sweeps/in4rwmxd</a>"
            ],
            "text/plain": [
              "<IPython.core.display.HTML object>"
            ]
          },
          "metadata": {},
          "output_type": "display_data"
        },
        {
          "data": {
            "text/html": [
              " View run at <a href='https://wandb.ai/me21b118-iit-madras/DL_Assignment3%20without%20attention/runs/q4xhb7z8' target=\"_blank\">https://wandb.ai/me21b118-iit-madras/DL_Assignment3%20without%20attention/runs/q4xhb7z8</a>"
            ],
            "text/plain": [
              "<IPython.core.display.HTML object>"
            ]
          },
          "metadata": {},
          "output_type": "display_data"
        },
        {
          "metadata": {
            "tags": null
          },
          "name": "stdout",
          "output_type": "stream",
          "text": [
            "Epoch 1/20\n",
            "\u001b[1m137/137\u001b[0m \u001b[32m━━━━━━━━━━━━━━━━━━━━\u001b[0m\u001b[37m\u001b[0m \u001b[1m4s\u001b[0m 18ms/step\n",
            "- WordAccuracy: 0.0\n",
            "\u001b[1m691/691\u001b[0m \u001b[32m━━━━━━━━━━━━━━━━━━━━\u001b[0m\u001b[37m\u001b[0m \u001b[1m81s\u001b[0m 103ms/step - accuracy: 0.0490 - loss: 1.3285 - val_accuracy: 0.0619 - val_loss: 1.2105 - WordAccuracy: 0.0000e+00\n",
            "Epoch 2/20\n",
            "\u001b[1m137/137\u001b[0m \u001b[32m━━━━━━━━━━━━━━━━━━━━\u001b[0m\u001b[37m\u001b[0m \u001b[1m2s\u001b[0m 14ms/step\n",
            "- WordAccuracy: 0.0\n",
            "\u001b[1m691/691\u001b[0m \u001b[32m━━━━━━━━━━━━━━━━━━━━\u001b[0m\u001b[37m\u001b[0m \u001b[1m65s\u001b[0m 94ms/step - accuracy: 0.0637 - loss: 1.2556 - val_accuracy: 0.0656 - val_loss: 1.1932 - WordAccuracy: 0.0000e+00\n",
            "Epoch 3/20\n",
            "\u001b[1m137/137\u001b[0m \u001b[32m━━━━━━━━━━━━━━━━━━━━\u001b[0m\u001b[37m\u001b[0m \u001b[1m2s\u001b[0m 14ms/step\n",
            "- WordAccuracy: 0.0\n",
            "\u001b[1m691/691\u001b[0m \u001b[32m━━━━━━━━━━━━━━━━━━━━\u001b[0m\u001b[37m\u001b[0m \u001b[1m82s\u001b[0m 95ms/step - accuracy: 0.0673 - loss: 1.2376 - val_accuracy: 0.0672 - val_loss: 1.1796 - WordAccuracy: 0.0000e+00\n",
            "Epoch 4/20\n",
            "\u001b[1m137/137\u001b[0m \u001b[32m━━━━━━━━━━━━━━━━━━━━\u001b[0m\u001b[37m\u001b[0m \u001b[1m1s\u001b[0m 11ms/step\n",
            "- WordAccuracy: 0.0\n",
            "\u001b[1m691/691\u001b[0m \u001b[32m━━━━━━━━━━━━━━━━━━━━\u001b[0m\u001b[37m\u001b[0m \u001b[1m67s\u001b[0m 98ms/step - accuracy: 0.0678 - loss: 1.2296 - val_accuracy: 0.0675 - val_loss: 1.1694 - WordAccuracy: 0.0000e+00\n",
            "Epoch 5/20\n",
            "\u001b[1m137/137\u001b[0m \u001b[32m━━━━━━━━━━━━━━━━━━━━\u001b[0m\u001b[37m\u001b[0m \u001b[1m2s\u001b[0m 17ms/step\n",
            "- WordAccuracy: 0.0\n",
            "\u001b[1m691/691\u001b[0m \u001b[32m━━━━━━━━━━━━━━━━━━━━\u001b[0m\u001b[37m\u001b[0m \u001b[1m79s\u001b[0m 93ms/step - accuracy: 0.0683 - loss: 1.2209 - val_accuracy: 0.0698 - val_loss: 1.1625 - WordAccuracy: 0.0000e+00\n",
            "Epoch 6/20\n",
            "\u001b[1m137/137\u001b[0m \u001b[32m━━━━━━━━━━━━━━━━━━━━\u001b[0m\u001b[37m\u001b[0m \u001b[1m1s\u001b[0m 11ms/step\n",
            "- WordAccuracy: 0.0\n",
            "\u001b[1m691/691\u001b[0m \u001b[32m━━━━━━━━━━━━━━━━━━━━\u001b[0m\u001b[37m\u001b[0m \u001b[1m67s\u001b[0m 98ms/step - accuracy: 0.0703 - loss: 1.2112 - val_accuracy: 0.0712 - val_loss: 1.1564 - WordAccuracy: 0.0000e+00\n",
            "Epoch 7/20\n",
            "\u001b[1m137/137\u001b[0m \u001b[32m━━━━━━━━━━━━━━━━━━━━\u001b[0m\u001b[37m\u001b[0m \u001b[1m2s\u001b[0m 11ms/step\n",
            "- WordAccuracy: 0.0\n",
            "\u001b[1m691/691\u001b[0m \u001b[32m━━━━━━━━━━━━━━━━━━━━\u001b[0m\u001b[37m\u001b[0m \u001b[1m82s\u001b[0m 98ms/step - accuracy: 0.0708 - loss: 1.2021 - val_accuracy: 0.0721 - val_loss: 1.1513 - WordAccuracy: 0.0000e+00\n",
            "Epoch 8/20\n",
            "\u001b[1m137/137\u001b[0m \u001b[32m━━━━━━━━━━━━━━━━━━━━\u001b[0m\u001b[37m\u001b[0m \u001b[1m1s\u001b[0m 11ms/step\n",
            "- WordAccuracy: 0.0\n",
            "\u001b[1m691/691\u001b[0m \u001b[32m━━━━━━━━━━━━━━━━━━━━\u001b[0m\u001b[37m\u001b[0m \u001b[1m80s\u001b[0m 95ms/step - accuracy: 0.0708 - loss: 1.2053 - val_accuracy: 0.0707 - val_loss: 1.1493 - WordAccuracy: 0.0000e+00\n",
            "Epoch 9/20\n",
            "\u001b[1m137/137\u001b[0m \u001b[32m━━━━━━━━━━━━━━━━━━━━\u001b[0m\u001b[37m\u001b[0m \u001b[1m2s\u001b[0m 11ms/step\n",
            "- WordAccuracy: 0.0\n",
            "\u001b[1m691/691\u001b[0m \u001b[32m━━━━━━━━━━━━━━━━━━━━\u001b[0m\u001b[37m\u001b[0m \u001b[1m84s\u001b[0m 98ms/step - accuracy: 0.0715 - loss: 1.1987 - val_accuracy: 0.0708 - val_loss: 1.1465 - WordAccuracy: 0.0000e+00\n",
            "Epoch 10/20\n",
            "\u001b[1m137/137\u001b[0m \u001b[32m━━━━━━━━━━━━━━━━━━━━\u001b[0m\u001b[37m\u001b[0m \u001b[1m1s\u001b[0m 11ms/step\n",
            "- WordAccuracy: 0.0\n",
            "\u001b[1m691/691\u001b[0m \u001b[32m━━━━━━━━━━━━━━━━━━━━\u001b[0m\u001b[37m\u001b[0m \u001b[1m69s\u001b[0m 99ms/step - accuracy: 0.0718 - loss: 1.1966 - val_accuracy: 0.0700 - val_loss: 1.1435 - WordAccuracy: 0.0000e+00\n",
            "Epoch 11/20\n",
            "\u001b[1m137/137\u001b[0m \u001b[32m━━━━━━━━━━━━━━━━━━━━\u001b[0m\u001b[37m\u001b[0m \u001b[1m1s\u001b[0m 11ms/step\n",
            "- WordAccuracy: 0.0\n",
            "\u001b[1m691/691\u001b[0m \u001b[32m━━━━━━━━━━━━━━━━━━━━\u001b[0m\u001b[37m\u001b[0m \u001b[1m79s\u001b[0m 95ms/step - accuracy: 0.0723 - loss: 1.1875 - val_accuracy: 0.0733 - val_loss: 1.1401 - WordAccuracy: 0.0000e+00\n",
            "Epoch 12/20\n",
            "\u001b[1m137/137\u001b[0m \u001b[32m━━━━━━━━━━━━━━━━━━━━\u001b[0m\u001b[37m\u001b[0m \u001b[1m2s\u001b[0m 11ms/step\n",
            "- WordAccuracy: 0.0\n",
            "\u001b[1m691/691\u001b[0m \u001b[32m━━━━━━━━━━━━━━━━━━━━\u001b[0m\u001b[37m\u001b[0m \u001b[1m69s\u001b[0m 100ms/step - accuracy: 0.0731 - loss: 1.1893 - val_accuracy: 0.0740 - val_loss: 1.1381 - WordAccuracy: 0.0000e+00\n",
            "Epoch 13/20\n",
            "\u001b[1m137/137\u001b[0m \u001b[32m━━━━━━━━━━━━━━━━━━━━\u001b[0m\u001b[37m\u001b[0m \u001b[1m2s\u001b[0m 17ms/step\n",
            "- WordAccuracy: 0.0\n",
            "\u001b[1m691/691\u001b[0m \u001b[32m━━━━━━━━━━━━━━━━━━━━\u001b[0m\u001b[37m\u001b[0m \u001b[1m79s\u001b[0m 96ms/step - accuracy: 0.0743 - loss: 1.1894 - val_accuracy: 0.0771 - val_loss: 1.1338 - WordAccuracy: 0.0000e+00\n",
            "Epoch 14/20\n",
            "\u001b[1m137/137\u001b[0m \u001b[32m━━━━━━━━━━━━━━━━━━━━\u001b[0m\u001b[37m\u001b[0m \u001b[1m2s\u001b[0m 11ms/step\n",
            "- WordAccuracy: 0.0\n",
            "\u001b[1m691/691\u001b[0m \u001b[32m━━━━━━━━━━━━━━━━━━━━\u001b[0m\u001b[37m\u001b[0m \u001b[1m70s\u001b[0m 101ms/step - accuracy: 0.0754 - loss: 1.1892 - val_accuracy: 0.0753 - val_loss: 1.1324 - WordAccuracy: 0.0000e+00\n",
            "Epoch 15/20\n",
            "\u001b[1m137/137\u001b[0m \u001b[32m━━━━━━━━━━━━━━━━━━━━\u001b[0m\u001b[37m\u001b[0m \u001b[1m2s\u001b[0m 11ms/step\n",
            "- WordAccuracy: 0.0\n",
            "\u001b[1m691/691\u001b[0m \u001b[32m━━━━━━━━━━━━━━━━━━━━\u001b[0m\u001b[37m\u001b[0m \u001b[1m79s\u001b[0m 97ms/step - accuracy: 0.0753 - loss: 1.1849 - val_accuracy: 0.0769 - val_loss: 1.1290 - WordAccuracy: 0.0000e+00\n",
            "Epoch 16/20\n",
            "\u001b[1m137/137\u001b[0m \u001b[32m━━━━━━━━━━━━━━━━━━━━\u001b[0m\u001b[37m\u001b[0m \u001b[1m2s\u001b[0m 11ms/step\n",
            "- WordAccuracy: 0.0\n",
            "\u001b[1m691/691\u001b[0m \u001b[32m━━━━━━━━━━━━━━━━━━━━\u001b[0m\u001b[37m\u001b[0m \u001b[1m69s\u001b[0m 100ms/step - accuracy: 0.0759 - loss: 1.1821 - val_accuracy: 0.0787 - val_loss: 1.1269 - WordAccuracy: 0.0000e+00\n",
            "Epoch 17/20\n",
            "\u001b[1m137/137\u001b[0m \u001b[32m━━━━━━━━━━━━━━━━━━━━\u001b[0m\u001b[37m\u001b[0m \u001b[1m2s\u001b[0m 11ms/step\n",
            "- WordAccuracy: 0.0\n",
            "\u001b[1m691/691\u001b[0m \u001b[32m━━━━━━━━━━━━━━━━━━━━\u001b[0m\u001b[37m\u001b[0m \u001b[1m70s\u001b[0m 101ms/step - accuracy: 0.0767 - loss: 1.1761 - val_accuracy: 0.0785 - val_loss: 1.1247 - WordAccuracy: 0.0000e+00\n",
            "Epoch 18/20\n",
            "\u001b[1m137/137\u001b[0m \u001b[32m━━━━━━━━━━━━━━━━━━━━\u001b[0m\u001b[37m\u001b[0m \u001b[1m2s\u001b[0m 16ms/step\n",
            "- WordAccuracy: 0.0\n",
            "\u001b[1m691/691\u001b[0m \u001b[32m━━━━━━━━━━━━━━━━━━━━\u001b[0m\u001b[37m\u001b[0m \u001b[1m78s\u001b[0m 96ms/step - accuracy: 0.0774 - loss: 1.1814 - val_accuracy: 0.0805 - val_loss: 1.1215 - WordAccuracy: 0.0000e+00\n",
            "Epoch 19/20\n",
            "\u001b[1m137/137\u001b[0m \u001b[32m━━━━━━━━━━━━━━━━━━━━\u001b[0m\u001b[37m\u001b[0m \u001b[1m2s\u001b[0m 11ms/step\n",
            "- WordAccuracy: 0.0\n",
            "\u001b[1m691/691\u001b[0m \u001b[32m━━━━━━━━━━━━━━━━━━━━\u001b[0m\u001b[37m\u001b[0m \u001b[1m83s\u001b[0m 97ms/step - accuracy: 0.0771 - loss: 1.1758 - val_accuracy: 0.0805 - val_loss: 1.1200 - WordAccuracy: 0.0000e+00\n",
            "Epoch 20/20\n",
            "\u001b[1m137/137\u001b[0m \u001b[32m━━━━━━━━━━━━━━━━━━━━\u001b[0m\u001b[37m\u001b[0m \u001b[1m2s\u001b[0m 11ms/step\n",
            "- WordAccuracy: 0.0\n",
            "\u001b[1m691/691\u001b[0m \u001b[32m━━━━━━━━━━━━━━━━━━━━\u001b[0m\u001b[37m\u001b[0m \u001b[1m84s\u001b[0m 100ms/step - accuracy: 0.0776 - loss: 1.1761 - val_accuracy: 0.0809 - val_loss: 1.1183 - WordAccuracy: 0.0000e+00\n"
          ]
        },
        {
          "data": {
            "text/html": [],
            "text/plain": [
              "<IPython.core.display.HTML object>"
            ]
          },
          "metadata": {},
          "output_type": "display_data"
        },
        {
          "data": {
            "text/html": [
              "<br>    <style><br>        .wandb-row {<br>            display: flex;<br>            flex-direction: row;<br>            flex-wrap: wrap;<br>            justify-content: flex-start;<br>            width: 100%;<br>        }<br>        .wandb-col {<br>            display: flex;<br>            flex-direction: column;<br>            flex-basis: 100%;<br>            flex: 1;<br>            padding: 10px;<br>        }<br>    </style><br><div class=\"wandb-row\"><div class=\"wandb-col\"><h3>Run history:</h3><br/><table class=\"wandb\"><tr><td>epoch/WordAccuracy</td><td>▁▁▁▁▁▁▁▁▁▁▁▁▁▁▁▁▁▁▁▁</td></tr><tr><td>epoch/accuracy</td><td>▁▄▅▅▅▆▆▆▆▆▆▇▇▇▇▇████</td></tr><tr><td>epoch/epoch</td><td>▁▁▂▂▂▃▃▄▄▄▅▅▅▆▆▇▇▇██</td></tr><tr><td>epoch/learning_rate</td><td>▁▁▁▁▁▁▁▁▁▁▁▁▁▁▁▁▁▁▁▁</td></tr><tr><td>epoch/loss</td><td>█▅▅▄▃▃▃▃▂▂▂▂▂▂▁▁▁▁▁▁</td></tr><tr><td>epoch/val_accuracy</td><td>▁▂▃▃▄▄▅▄▄▄▅▅▇▆▇▇▇███</td></tr><tr><td>epoch/val_loss</td><td>█▇▆▅▄▄▄▃▃▃▃▂▂▂▂▂▁▁▁▁</td></tr></table><br/></div><div class=\"wandb-col\"><h3>Run summary:</h3><br/><table class=\"wandb\"><tr><td>epoch/WordAccuracy</td><td>0</td></tr><tr><td>epoch/accuracy</td><td>0.07775</td></tr><tr><td>epoch/epoch</td><td>19</td></tr><tr><td>epoch/learning_rate</td><td>0.001</td></tr><tr><td>epoch/loss</td><td>1.17595</td></tr><tr><td>epoch/val_accuracy</td><td>0.08089</td></tr><tr><td>epoch/val_loss</td><td>1.11834</td></tr></table><br/></div></div>"
            ],
            "text/plain": [
              "<IPython.core.display.HTML object>"
            ]
          },
          "metadata": {},
          "output_type": "display_data"
        },
        {
          "data": {
            "text/html": [
              " View run <strong style=\"color:#cdcd00\">firm-sweep-30</strong> at: <a href='https://wandb.ai/me21b118-iit-madras/DL_Assignment3%20without%20attention/runs/q4xhb7z8' target=\"_blank\">https://wandb.ai/me21b118-iit-madras/DL_Assignment3%20without%20attention/runs/q4xhb7z8</a><br> View project at: <a href='https://wandb.ai/me21b118-iit-madras/DL_Assignment3%20without%20attention' target=\"_blank\">https://wandb.ai/me21b118-iit-madras/DL_Assignment3%20without%20attention</a><br>Synced 5 W&B file(s), 0 media file(s), 0 artifact file(s) and 0 other file(s)"
            ],
            "text/plain": [
              "<IPython.core.display.HTML object>"
            ]
          },
          "metadata": {},
          "output_type": "display_data"
        },
        {
          "data": {
            "text/html": [
              "Find logs at: <code>./wandb/run-20250521_104504-q4xhb7z8/logs</code>"
            ],
            "text/plain": [
              "<IPython.core.display.HTML object>"
            ]
          },
          "metadata": {},
          "output_type": "display_data"
        },
        {
          "metadata": {
            "tags": null
          },
          "name": "stderr",
          "output_type": "stream",
          "text": [
            "\u001b[34m\u001b[1mwandb\u001b[0m: Agent Starting Run: q7tce5qu with config:\n",
            "\u001b[34m\u001b[1mwandb\u001b[0m: \tbatch_size: 32\n",
            "\u001b[34m\u001b[1mwandb\u001b[0m: \tbeam_size: 5\n",
            "\u001b[34m\u001b[1mwandb\u001b[0m: \tcell_type: GRU\n",
            "\u001b[34m\u001b[1mwandb\u001b[0m: \tdecoder_layers: 3\n",
            "\u001b[34m\u001b[1mwandb\u001b[0m: \tdropout: 0\n",
            "\u001b[34m\u001b[1mwandb\u001b[0m: \tencoder_layers: 2\n",
            "\u001b[34m\u001b[1mwandb\u001b[0m: \tepochs: 10\n",
            "\u001b[34m\u001b[1mwandb\u001b[0m: \thidden_layer_size: 32\n",
            "\u001b[34m\u001b[1mwandb\u001b[0m: \trecurrent_dropout: 0.2\n"
          ]
        },
        {
          "data": {
            "text/html": [
              "Tracking run with wandb version 0.19.11"
            ],
            "text/plain": [
              "<IPython.core.display.HTML object>"
            ]
          },
          "metadata": {},
          "output_type": "display_data"
        },
        {
          "data": {
            "text/html": [
              "Run data is saved locally in <code>/content/wandb/run-20250521_111035-q7tce5qu</code>"
            ],
            "text/plain": [
              "<IPython.core.display.HTML object>"
            ]
          },
          "metadata": {},
          "output_type": "display_data"
        },
        {
          "data": {
            "text/html": [
              "Syncing run <strong><a href='https://wandb.ai/me21b118-iit-madras/DL_Assignment3%20without%20attention/runs/q7tce5qu' target=\"_blank\">grateful-sweep-31</a></strong> to <a href='https://wandb.ai/me21b118-iit-madras/DL_Assignment3%20without%20attention' target=\"_blank\">Weights & Biases</a> (<a href='https://wandb.me/developer-guide' target=\"_blank\">docs</a>)<br>Sweep page: <a href='https://wandb.ai/me21b118-iit-madras/DL_Assignment3%20without%20attention/sweeps/in4rwmxd' target=\"_blank\">https://wandb.ai/me21b118-iit-madras/DL_Assignment3%20without%20attention/sweeps/in4rwmxd</a>"
            ],
            "text/plain": [
              "<IPython.core.display.HTML object>"
            ]
          },
          "metadata": {},
          "output_type": "display_data"
        },
        {
          "data": {
            "text/html": [
              " View project at <a href='https://wandb.ai/me21b118-iit-madras/DL_Assignment3%20without%20attention' target=\"_blank\">https://wandb.ai/me21b118-iit-madras/DL_Assignment3%20without%20attention</a>"
            ],
            "text/plain": [
              "<IPython.core.display.HTML object>"
            ]
          },
          "metadata": {},
          "output_type": "display_data"
        },
        {
          "data": {
            "text/html": [
              " View sweep at <a href='https://wandb.ai/me21b118-iit-madras/DL_Assignment3%20without%20attention/sweeps/in4rwmxd' target=\"_blank\">https://wandb.ai/me21b118-iit-madras/DL_Assignment3%20without%20attention/sweeps/in4rwmxd</a>"
            ],
            "text/plain": [
              "<IPython.core.display.HTML object>"
            ]
          },
          "metadata": {},
          "output_type": "display_data"
        },
        {
          "data": {
            "text/html": [
              " View run at <a href='https://wandb.ai/me21b118-iit-madras/DL_Assignment3%20without%20attention/runs/q7tce5qu' target=\"_blank\">https://wandb.ai/me21b118-iit-madras/DL_Assignment3%20without%20attention/runs/q7tce5qu</a>"
            ],
            "text/plain": [
              "<IPython.core.display.HTML object>"
            ]
          },
          "metadata": {},
          "output_type": "display_data"
        },
        {
          "metadata": {
            "tags": null
          },
          "name": "stdout",
          "output_type": "stream",
          "text": [
            "decoder_layers exceeds encoder_layers; skipping this run.\n"
          ]
        },
        {
          "data": {
            "text/html": [],
            "text/plain": [
              "<IPython.core.display.HTML object>"
            ]
          },
          "metadata": {},
          "output_type": "display_data"
        },
        {
          "data": {
            "text/html": [
              " View run <strong style=\"color:#cdcd00\">grateful-sweep-31</strong> at: <a href='https://wandb.ai/me21b118-iit-madras/DL_Assignment3%20without%20attention/runs/q7tce5qu' target=\"_blank\">https://wandb.ai/me21b118-iit-madras/DL_Assignment3%20without%20attention/runs/q7tce5qu</a><br> View project at: <a href='https://wandb.ai/me21b118-iit-madras/DL_Assignment3%20without%20attention' target=\"_blank\">https://wandb.ai/me21b118-iit-madras/DL_Assignment3%20without%20attention</a><br>Synced 5 W&B file(s), 0 media file(s), 0 artifact file(s) and 0 other file(s)"
            ],
            "text/plain": [
              "<IPython.core.display.HTML object>"
            ]
          },
          "metadata": {},
          "output_type": "display_data"
        },
        {
          "data": {
            "text/html": [
              "Find logs at: <code>./wandb/run-20250521_111035-q7tce5qu/logs</code>"
            ],
            "text/plain": [
              "<IPython.core.display.HTML object>"
            ]
          },
          "metadata": {},
          "output_type": "display_data"
        },
        {
          "metadata": {
            "tags": null
          },
          "name": "stderr",
          "output_type": "stream",
          "text": [
            "\u001b[34m\u001b[1mwandb\u001b[0m: Agent Starting Run: poq2l6ns with config:\n",
            "\u001b[34m\u001b[1mwandb\u001b[0m: \tbatch_size: 128\n",
            "\u001b[34m\u001b[1mwandb\u001b[0m: \tbeam_size: 5\n",
            "\u001b[34m\u001b[1mwandb\u001b[0m: \tcell_type: RNN\n",
            "\u001b[34m\u001b[1mwandb\u001b[0m: \tdecoder_layers: 3\n",
            "\u001b[34m\u001b[1mwandb\u001b[0m: \tdropout: 0.3\n",
            "\u001b[34m\u001b[1mwandb\u001b[0m: \tencoder_layers: 2\n",
            "\u001b[34m\u001b[1mwandb\u001b[0m: \tepochs: 30\n",
            "\u001b[34m\u001b[1mwandb\u001b[0m: \thidden_layer_size: 64\n",
            "\u001b[34m\u001b[1mwandb\u001b[0m: \trecurrent_dropout: 0.2\n"
          ]
        },
        {
          "data": {
            "text/html": [
              "Tracking run with wandb version 0.19.11"
            ],
            "text/plain": [
              "<IPython.core.display.HTML object>"
            ]
          },
          "metadata": {},
          "output_type": "display_data"
        },
        {
          "data": {
            "text/html": [
              "Run data is saved locally in <code>/content/wandb/run-20250521_111051-poq2l6ns</code>"
            ],
            "text/plain": [
              "<IPython.core.display.HTML object>"
            ]
          },
          "metadata": {},
          "output_type": "display_data"
        },
        {
          "data": {
            "text/html": [
              "Syncing run <strong><a href='https://wandb.ai/me21b118-iit-madras/DL_Assignment3%20without%20attention/runs/poq2l6ns' target=\"_blank\">jolly-sweep-32</a></strong> to <a href='https://wandb.ai/me21b118-iit-madras/DL_Assignment3%20without%20attention' target=\"_blank\">Weights & Biases</a> (<a href='https://wandb.me/developer-guide' target=\"_blank\">docs</a>)<br>Sweep page: <a href='https://wandb.ai/me21b118-iit-madras/DL_Assignment3%20without%20attention/sweeps/in4rwmxd' target=\"_blank\">https://wandb.ai/me21b118-iit-madras/DL_Assignment3%20without%20attention/sweeps/in4rwmxd</a>"
            ],
            "text/plain": [
              "<IPython.core.display.HTML object>"
            ]
          },
          "metadata": {},
          "output_type": "display_data"
        },
        {
          "data": {
            "text/html": [
              " View project at <a href='https://wandb.ai/me21b118-iit-madras/DL_Assignment3%20without%20attention' target=\"_blank\">https://wandb.ai/me21b118-iit-madras/DL_Assignment3%20without%20attention</a>"
            ],
            "text/plain": [
              "<IPython.core.display.HTML object>"
            ]
          },
          "metadata": {},
          "output_type": "display_data"
        },
        {
          "data": {
            "text/html": [
              " View sweep at <a href='https://wandb.ai/me21b118-iit-madras/DL_Assignment3%20without%20attention/sweeps/in4rwmxd' target=\"_blank\">https://wandb.ai/me21b118-iit-madras/DL_Assignment3%20without%20attention/sweeps/in4rwmxd</a>"
            ],
            "text/plain": [
              "<IPython.core.display.HTML object>"
            ]
          },
          "metadata": {},
          "output_type": "display_data"
        },
        {
          "data": {
            "text/html": [
              " View run at <a href='https://wandb.ai/me21b118-iit-madras/DL_Assignment3%20without%20attention/runs/poq2l6ns' target=\"_blank\">https://wandb.ai/me21b118-iit-madras/DL_Assignment3%20without%20attention/runs/poq2l6ns</a>"
            ],
            "text/plain": [
              "<IPython.core.display.HTML object>"
            ]
          },
          "metadata": {},
          "output_type": "display_data"
        },
        {
          "metadata": {
            "tags": null
          },
          "name": "stdout",
          "output_type": "stream",
          "text": [
            "decoder_layers exceeds encoder_layers; skipping this run.\n"
          ]
        },
        {
          "data": {
            "text/html": [],
            "text/plain": [
              "<IPython.core.display.HTML object>"
            ]
          },
          "metadata": {},
          "output_type": "display_data"
        },
        {
          "data": {
            "text/html": [
              " View run <strong style=\"color:#cdcd00\">jolly-sweep-32</strong> at: <a href='https://wandb.ai/me21b118-iit-madras/DL_Assignment3%20without%20attention/runs/poq2l6ns' target=\"_blank\">https://wandb.ai/me21b118-iit-madras/DL_Assignment3%20without%20attention/runs/poq2l6ns</a><br> View project at: <a href='https://wandb.ai/me21b118-iit-madras/DL_Assignment3%20without%20attention' target=\"_blank\">https://wandb.ai/me21b118-iit-madras/DL_Assignment3%20without%20attention</a><br>Synced 5 W&B file(s), 0 media file(s), 0 artifact file(s) and 0 other file(s)"
            ],
            "text/plain": [
              "<IPython.core.display.HTML object>"
            ]
          },
          "metadata": {},
          "output_type": "display_data"
        },
        {
          "data": {
            "text/html": [
              "Find logs at: <code>./wandb/run-20250521_111051-poq2l6ns/logs</code>"
            ],
            "text/plain": [
              "<IPython.core.display.HTML object>"
            ]
          },
          "metadata": {},
          "output_type": "display_data"
        },
        {
          "metadata": {
            "tags": null
          },
          "name": "stderr",
          "output_type": "stream",
          "text": [
            "\u001b[34m\u001b[1mwandb\u001b[0m: Agent Starting Run: p3jvxn9x with config:\n",
            "\u001b[34m\u001b[1mwandb\u001b[0m: \tbatch_size: 32\n",
            "\u001b[34m\u001b[1mwandb\u001b[0m: \tbeam_size: 5\n",
            "\u001b[34m\u001b[1mwandb\u001b[0m: \tcell_type: GRU\n",
            "\u001b[34m\u001b[1mwandb\u001b[0m: \tdecoder_layers: 1\n",
            "\u001b[34m\u001b[1mwandb\u001b[0m: \tdropout: 0.3\n",
            "\u001b[34m\u001b[1mwandb\u001b[0m: \tencoder_layers: 2\n",
            "\u001b[34m\u001b[1mwandb\u001b[0m: \tepochs: 10\n",
            "\u001b[34m\u001b[1mwandb\u001b[0m: \thidden_layer_size: 32\n",
            "\u001b[34m\u001b[1mwandb\u001b[0m: \trecurrent_dropout: 0.2\n"
          ]
        },
        {
          "data": {
            "text/html": [
              "Tracking run with wandb version 0.19.11"
            ],
            "text/plain": [
              "<IPython.core.display.HTML object>"
            ]
          },
          "metadata": {},
          "output_type": "display_data"
        },
        {
          "data": {
            "text/html": [
              "Run data is saved locally in <code>/content/wandb/run-20250521_111107-p3jvxn9x</code>"
            ],
            "text/plain": [
              "<IPython.core.display.HTML object>"
            ]
          },
          "metadata": {},
          "output_type": "display_data"
        },
        {
          "data": {
            "text/html": [
              "Syncing run <strong><a href='https://wandb.ai/me21b118-iit-madras/DL_Assignment3%20without%20attention/runs/p3jvxn9x' target=\"_blank\">scarlet-sweep-33</a></strong> to <a href='https://wandb.ai/me21b118-iit-madras/DL_Assignment3%20without%20attention' target=\"_blank\">Weights & Biases</a> (<a href='https://wandb.me/developer-guide' target=\"_blank\">docs</a>)<br>Sweep page: <a href='https://wandb.ai/me21b118-iit-madras/DL_Assignment3%20without%20attention/sweeps/in4rwmxd' target=\"_blank\">https://wandb.ai/me21b118-iit-madras/DL_Assignment3%20without%20attention/sweeps/in4rwmxd</a>"
            ],
            "text/plain": [
              "<IPython.core.display.HTML object>"
            ]
          },
          "metadata": {},
          "output_type": "display_data"
        },
        {
          "data": {
            "text/html": [
              " View project at <a href='https://wandb.ai/me21b118-iit-madras/DL_Assignment3%20without%20attention' target=\"_blank\">https://wandb.ai/me21b118-iit-madras/DL_Assignment3%20without%20attention</a>"
            ],
            "text/plain": [
              "<IPython.core.display.HTML object>"
            ]
          },
          "metadata": {},
          "output_type": "display_data"
        },
        {
          "data": {
            "text/html": [
              " View sweep at <a href='https://wandb.ai/me21b118-iit-madras/DL_Assignment3%20without%20attention/sweeps/in4rwmxd' target=\"_blank\">https://wandb.ai/me21b118-iit-madras/DL_Assignment3%20without%20attention/sweeps/in4rwmxd</a>"
            ],
            "text/plain": [
              "<IPython.core.display.HTML object>"
            ]
          },
          "metadata": {},
          "output_type": "display_data"
        },
        {
          "data": {
            "text/html": [
              " View run at <a href='https://wandb.ai/me21b118-iit-madras/DL_Assignment3%20without%20attention/runs/p3jvxn9x' target=\"_blank\">https://wandb.ai/me21b118-iit-madras/DL_Assignment3%20without%20attention/runs/p3jvxn9x</a>"
            ],
            "text/plain": [
              "<IPython.core.display.HTML object>"
            ]
          },
          "metadata": {},
          "output_type": "display_data"
        },
        {
          "output_type": "stream",
          "name": "stdout",
          "text": [
            "Epoch 1/10\n",
            "\u001b[1m137/137\u001b[0m \u001b[32m━━━━━━━━━━━━━━━━━━━━\u001b[0m\u001b[37m\u001b[0m \u001b[1m3s\u001b[0m 14ms/step\n",
            "- WordAccuracy: 0.0\n",
            "\u001b[1m1382/1382\u001b[0m \u001b[32m━━━━━━━━━━━━━━━━━━━━\u001b[0m\u001b[37m\u001b[0m \u001b[1m90s\u001b[0m 61ms/step - accuracy: 0.0530 - loss: 1.2558 - val_accuracy: 0.0603 - val_loss: 1.1405 - WordAccuracy: 0.0000e+00\n",
            "Epoch 2/10\n",
            "\u001b[1m137/137\u001b[0m \u001b[32m━━━━━━━━━━━━━━━━━━━━\u001b[0m\u001b[37m\u001b[0m \u001b[1m1s\u001b[0m 8ms/step\n",
            "- WordAccuracy: 0.0\n",
            "\u001b[1m1382/1382\u001b[0m \u001b[32m━━━━━━━━━━━━━━━━━━━━\u001b[0m\u001b[37m\u001b[0m \u001b[1m140s\u001b[0m 60ms/step - accuracy: 0.0615 - loss: 1.1838 - val_accuracy: 0.0619 - val_loss: 1.1411 - WordAccuracy: 0.0000e+00\n",
            "Epoch 3/10\n",
            "\u001b[1m137/137\u001b[0m \u001b[32m━━━━━━━━━━━━━━━━━━━━\u001b[0m\u001b[37m\u001b[0m \u001b[1m1s\u001b[0m 9ms/step\n",
            "- WordAccuracy: 0.0\n",
            "\u001b[1m1382/1382\u001b[0m \u001b[32m━━━━━━━━━━━━━━━━━━━━\u001b[0m\u001b[37m\u001b[0m \u001b[1m143s\u001b[0m 61ms/step - accuracy: 0.0646 - loss: 1.1899 - val_accuracy: 0.0653 - val_loss: 1.1390 - WordAccuracy: 0.0000e+00\n",
            "Epoch 4/10\n",
            "\u001b[1m137/137\u001b[0m \u001b[32m━━━━━━━━━━━━━━━━━━━━\u001b[0m\u001b[37m\u001b[0m \u001b[1m1s\u001b[0m 8ms/step\n",
            "- WordAccuracy: 0.0\n",
            "\u001b[1m1382/1382\u001b[0m \u001b[32m━━━━━━━━━━━━━━━━━━━━\u001b[0m\u001b[37m\u001b[0m \u001b[1m141s\u001b[0m 60ms/step - accuracy: 0.0670 - loss: 1.1844 - val_accuracy: 0.0660 - val_loss: 1.1347 - WordAccuracy: 0.0000e+00\n",
            "Epoch 5/10\n",
            "\u001b[1m137/137\u001b[0m \u001b[32m━━━━━━━━━━━━━━━━━━━━\u001b[0m\u001b[37m\u001b[0m \u001b[1m1s\u001b[0m 10ms/step\n",
            "- WordAccuracy: 0.0\n",
            "\u001b[1m1382/1382\u001b[0m \u001b[32m━━━━━━━━━━━━━━━━━━━━\u001b[0m\u001b[37m\u001b[0m \u001b[1m81s\u001b[0m 59ms/step - accuracy: 0.0668 - loss: 1.1793 - val_accuracy: 0.0652 - val_loss: 1.1310 - WordAccuracy: 0.0000e+00\n",
            "Epoch 6/10\n",
            "\u001b[1m137/137\u001b[0m \u001b[32m━━━━━━━━━━━━━━━━━━━━\u001b[0m\u001b[37m\u001b[0m \u001b[1m1s\u001b[0m 9ms/step\n",
            "- WordAccuracy: 0.0\n",
            "\u001b[1m1382/1382\u001b[0m \u001b[32m━━━━━━━━━━━━━━━━━━━━\u001b[0m\u001b[37m\u001b[0m \u001b[1m86s\u001b[0m 62ms/step - accuracy: 0.0674 - loss: 1.1745 - val_accuracy: 0.0673 - val_loss: 1.1265 - WordAccuracy: 0.0000e+00\n",
            "Epoch 7/10\n",
            "\u001b[1m137/137\u001b[0m \u001b[32m━━━━━━━━━━━━━━━━━━━━\u001b[0m\u001b[37m\u001b[0m \u001b[1m1s\u001b[0m 9ms/step\n",
            "- WordAccuracy: 0.0\n",
            "\u001b[1m1382/1382\u001b[0m \u001b[32m━━━━━━━━━━━━━━━━━━━━\u001b[0m\u001b[37m\u001b[0m \u001b[1m142s\u001b[0m 62ms/step - accuracy: 0.0692 - loss: 1.1769 - val_accuracy: 0.0679 - val_loss: 1.1232 - WordAccuracy: 0.0000e+00\n",
            "Epoch 8/10\n",
            "\u001b[1m137/137\u001b[0m \u001b[32m━━━━━━━━━━━━━━━━━━━━\u001b[0m\u001b[37m\u001b[0m \u001b[1m1s\u001b[0m 9ms/step\n",
            "- WordAccuracy: 0.0\n",
            "\u001b[1m1382/1382\u001b[0m \u001b[32m━━━━━━━━━━━━━━━━━━━━\u001b[0m\u001b[37m\u001b[0m \u001b[1m142s\u001b[0m 63ms/step - accuracy: 0.0701 - loss: 1.1692 - val_accuracy: 0.0686 - val_loss: 1.1205 - WordAccuracy: 0.0000e+00\n",
            "Epoch 9/10\n",
            "\u001b[1m137/137\u001b[0m \u001b[32m━━━━━━━━━━━━━━━━━━━━\u001b[0m\u001b[37m\u001b[0m \u001b[1m1s\u001b[0m 9ms/step\n",
            "- WordAccuracy: 0.0\n",
            "\u001b[1m1382/1382\u001b[0m \u001b[32m━━━━━━━━━━━━━━━━━━━━\u001b[0m\u001b[37m\u001b[0m \u001b[1m140s\u001b[0m 62ms/step - accuracy: 0.0707 - loss: 1.1646 - val_accuracy: 0.0701 - val_loss: 1.1176 - WordAccuracy: 0.0000e+00\n",
            "Epoch 10/10\n",
            "\u001b[1m137/137\u001b[0m \u001b[32m━━━━━━━━━━━━━━━━━━━━\u001b[0m\u001b[37m\u001b[0m \u001b[1m1s\u001b[0m 9ms/step\n",
            "- WordAccuracy: 0.0\n",
            "\u001b[1m1382/1382\u001b[0m \u001b[32m━━━━━━━━━━━━━━━━━━━━\u001b[0m\u001b[37m\u001b[0m \u001b[1m142s\u001b[0m 62ms/step - accuracy: 0.0723 - loss: 1.1665 - val_accuracy: 0.0704 - val_loss: 1.1148 - WordAccuracy: 0.0000e+00\n"
          ]
        },
        {
          "output_type": "display_data",
          "data": {
            "text/plain": [
              "<IPython.core.display.HTML object>"
            ],
            "text/html": []
          },
          "metadata": {}
        },
        {
          "output_type": "display_data",
          "data": {
            "text/plain": [
              "<IPython.core.display.HTML object>"
            ],
            "text/html": [
              "<br>    <style><br>        .wandb-row {<br>            display: flex;<br>            flex-direction: row;<br>            flex-wrap: wrap;<br>            justify-content: flex-start;<br>            width: 100%;<br>        }<br>        .wandb-col {<br>            display: flex;<br>            flex-direction: column;<br>            flex-basis: 100%;<br>            flex: 1;<br>            padding: 10px;<br>        }<br>    </style><br><div class=\"wandb-row\"><div class=\"wandb-col\"><h3>Run history:</h3><br/><table class=\"wandb\"><tr><td>epoch/WordAccuracy</td><td>▁▁▁▁▁▁▁▁▁▁</td></tr><tr><td>epoch/accuracy</td><td>▁▃▄▅▅▆▆▇▇█</td></tr><tr><td>epoch/epoch</td><td>▁▂▃▃▄▅▆▆▇█</td></tr><tr><td>epoch/learning_rate</td><td>▁▁▁▁▁▁▁▁▁▁</td></tr><tr><td>epoch/loss</td><td>█▄▄▄▃▃▂▂▁▁</td></tr><tr><td>epoch/val_accuracy</td><td>▁▂▄▅▄▆▆▇██</td></tr><tr><td>epoch/val_loss</td><td>██▇▆▅▄▃▃▂▁</td></tr></table><br/></div><div class=\"wandb-col\"><h3>Run summary:</h3><br/><table class=\"wandb\"><tr><td>epoch/WordAccuracy</td><td>0</td></tr><tr><td>epoch/accuracy</td><td>0.07232</td></tr><tr><td>epoch/epoch</td><td>9</td></tr><tr><td>epoch/learning_rate</td><td>0.001</td></tr><tr><td>epoch/loss</td><td>1.16284</td></tr><tr><td>epoch/val_accuracy</td><td>0.07043</td></tr><tr><td>epoch/val_loss</td><td>1.11477</td></tr></table><br/></div></div>"
            ]
          },
          "metadata": {}
        },
        {
          "output_type": "display_data",
          "data": {
            "text/plain": [
              "<IPython.core.display.HTML object>"
            ],
            "text/html": [
              " View run <strong style=\"color:#cdcd00\">scarlet-sweep-33</strong> at: <a href='https://wandb.ai/me21b118-iit-madras/DL_Assignment3%20without%20attention/runs/p3jvxn9x' target=\"_blank\">https://wandb.ai/me21b118-iit-madras/DL_Assignment3%20without%20attention/runs/p3jvxn9x</a><br> View project at: <a href='https://wandb.ai/me21b118-iit-madras/DL_Assignment3%20without%20attention' target=\"_blank\">https://wandb.ai/me21b118-iit-madras/DL_Assignment3%20without%20attention</a><br>Synced 5 W&B file(s), 0 media file(s), 0 artifact file(s) and 0 other file(s)"
            ]
          },
          "metadata": {}
        },
        {
          "output_type": "display_data",
          "data": {
            "text/plain": [
              "<IPython.core.display.HTML object>"
            ],
            "text/html": [
              "Find logs at: <code>./wandb/run-20250521_111107-p3jvxn9x/logs</code>"
            ]
          },
          "metadata": {}
        }
      ]
    },
    {
      "cell_type": "code",
      "source": [
        "run = wandb.init()\n",
        "rnn = Seq2SeqModel(3,2,64,0,0,\"RNN\",3)\n",
        "rnn.build_and_train(encoder_input_data, decoder_input_data, decoder_target_data,\n",
        "                        10, 128, val_encoder_input_data, val_decoder_input_data,\n",
        "                        val_decoder_target_data, num_encoder_tokens, num_decoder_tokens)"
      ],
      "metadata": {
        "colab": {
          "base_uri": "https://localhost:8080/",
          "height": 888
        },
        "id": "F_StJBAYyhm3",
        "outputId": "96b597ed-69d0-40a7-8437-b7511aa46c9f"
      },
      "execution_count": null,
      "outputs": [
        {
          "output_type": "display_data",
          "data": {
            "text/plain": [
              "<IPython.core.display.HTML object>"
            ],
            "text/html": [
              "Changes to your `wandb` environment variables will be ignored because your `wandb` session has already started. For more information on how to modify your settings with `wandb.init()` arguments, please refer to <a href='https://wandb.me/wandb-init' target=\"_blank\">the W&B docs</a>."
            ]
          },
          "metadata": {}
        },
        {
          "output_type": "display_data",
          "data": {
            "text/plain": [
              "<IPython.core.display.HTML object>"
            ],
            "text/html": [
              "Tracking run with wandb version 0.19.11"
            ]
          },
          "metadata": {}
        },
        {
          "output_type": "display_data",
          "data": {
            "text/plain": [
              "<IPython.core.display.HTML object>"
            ],
            "text/html": [
              "Run data is saved locally in <code>/content/wandb/run-20250521_123455-p3jvxn9x</code>"
            ]
          },
          "metadata": {}
        },
        {
          "output_type": "display_data",
          "data": {
            "text/plain": [
              "<IPython.core.display.HTML object>"
            ],
            "text/html": [
              "Syncing run <strong><a href='https://wandb.ai/me21b118-iit-madras/DL_Assignment3%20without%20attention/runs/p3jvxn9x' target=\"_blank\">scarlet-sweep-33</a></strong> to <a href='https://wandb.ai/me21b118-iit-madras/DL_Assignment3%20without%20attention' target=\"_blank\">Weights & Biases</a> (<a href='https://wandb.me/developer-guide' target=\"_blank\">docs</a>)<br>Sweep page: <a href='https://wandb.ai/me21b118-iit-madras/DL_Assignment3%20without%20attention/sweeps/in4rwmxd' target=\"_blank\">https://wandb.ai/me21b118-iit-madras/DL_Assignment3%20without%20attention/sweeps/in4rwmxd</a>"
            ]
          },
          "metadata": {}
        },
        {
          "output_type": "display_data",
          "data": {
            "text/plain": [
              "<IPython.core.display.HTML object>"
            ],
            "text/html": [
              " View project at <a href='https://wandb.ai/me21b118-iit-madras/DL_Assignment3%20without%20attention' target=\"_blank\">https://wandb.ai/me21b118-iit-madras/DL_Assignment3%20without%20attention</a>"
            ]
          },
          "metadata": {}
        },
        {
          "output_type": "display_data",
          "data": {
            "text/plain": [
              "<IPython.core.display.HTML object>"
            ],
            "text/html": [
              " View sweep at <a href='https://wandb.ai/me21b118-iit-madras/DL_Assignment3%20without%20attention/sweeps/in4rwmxd' target=\"_blank\">https://wandb.ai/me21b118-iit-madras/DL_Assignment3%20without%20attention/sweeps/in4rwmxd</a>"
            ]
          },
          "metadata": {}
        },
        {
          "output_type": "display_data",
          "data": {
            "text/plain": [
              "<IPython.core.display.HTML object>"
            ],
            "text/html": [
              " View run at <a href='https://wandb.ai/me21b118-iit-madras/DL_Assignment3%20without%20attention/runs/p3jvxn9x' target=\"_blank\">https://wandb.ai/me21b118-iit-madras/DL_Assignment3%20without%20attention/runs/p3jvxn9x</a>"
            ]
          },
          "metadata": {}
        },
        {
          "output_type": "stream",
          "name": "stdout",
          "text": [
            "Epoch 1/10\n",
            "\u001b[1m137/137\u001b[0m \u001b[32m━━━━━━━━━━━━━━━━━━━━\u001b[0m\u001b[37m\u001b[0m \u001b[1m2s\u001b[0m 14ms/step\n",
            "- WordAccuracy: 0.0\n",
            "\u001b[1m346/346\u001b[0m \u001b[32m━━━━━━━━━━━━━━━━━━━━\u001b[0m\u001b[37m\u001b[0m \u001b[1m40s\u001b[0m 102ms/step - accuracy: 0.0777 - loss: 1.2211 - val_accuracy: 0.1104 - val_loss: 1.0358 - WordAccuracy: 0.0000e+00\n",
            "Epoch 2/10\n",
            "\u001b[1m137/137\u001b[0m \u001b[32m━━━━━━━━━━━━━━━━━━━━\u001b[0m\u001b[37m\u001b[0m \u001b[1m1s\u001b[0m 8ms/step\n",
            "- WordAccuracy: 0.0\n",
            "\u001b[1m346/346\u001b[0m \u001b[32m━━━━━━━━━━━━━━━━━━━━\u001b[0m\u001b[37m\u001b[0m \u001b[1m38s\u001b[0m 95ms/step - accuracy: 0.1225 - loss: 1.0072 - val_accuracy: 0.1304 - val_loss: 0.8680 - WordAccuracy: 0.0000e+00\n",
            "Epoch 3/10\n",
            "\u001b[1m137/137\u001b[0m \u001b[32m━━━━━━━━━━━━━━━━━━━━\u001b[0m\u001b[37m\u001b[0m \u001b[1m1s\u001b[0m 7ms/step\n",
            "- WordAccuracy: 0.0\n",
            "\u001b[1m346/346\u001b[0m \u001b[32m━━━━━━━━━━━━━━━━━━━━\u001b[0m\u001b[37m\u001b[0m \u001b[1m41s\u001b[0m 95ms/step - accuracy: 0.1407 - loss: 0.8847 - val_accuracy: 0.1430 - val_loss: 0.8045 - WordAccuracy: 0.0000e+00\n",
            "Epoch 4/10\n",
            "\u001b[1m137/137\u001b[0m \u001b[32m━━━━━━━━━━━━━━━━━━━━\u001b[0m\u001b[37m\u001b[0m \u001b[1m1s\u001b[0m 7ms/step\n",
            "- WordAccuracy: 0.0\n",
            "\u001b[1m346/346\u001b[0m \u001b[32m━━━━━━━━━━━━━━━━━━━━\u001b[0m\u001b[37m\u001b[0m \u001b[1m41s\u001b[0m 96ms/step - accuracy: 0.1533 - loss: 0.8197 - val_accuracy: 0.1493 - val_loss: 0.7710 - WordAccuracy: 0.0000e+00\n",
            "Epoch 5/10\n",
            "\u001b[1m137/137\u001b[0m \u001b[32m━━━━━━━━━━━━━━━━━━━━\u001b[0m\u001b[37m\u001b[0m \u001b[1m2s\u001b[0m 12ms/step\n",
            "- WordAccuracy: 0.0\n",
            "\u001b[1m346/346\u001b[0m \u001b[32m━━━━━━━━━━━━━━━━━━━━\u001b[0m\u001b[37m\u001b[0m \u001b[1m42s\u001b[0m 99ms/step - accuracy: 0.1625 - loss: 0.7763 - val_accuracy: 0.1575 - val_loss: 0.7283 - WordAccuracy: 0.0000e+00\n",
            "Epoch 6/10\n",
            "\u001b[1m137/137\u001b[0m \u001b[32m━━━━━━━━━━━━━━━━━━━━\u001b[0m\u001b[37m\u001b[0m \u001b[1m1s\u001b[0m 8ms/step\n",
            "- WordAccuracy: 0.0\n",
            "\u001b[1m346/346\u001b[0m \u001b[32m━━━━━━━━━━━━━━━━━━━━\u001b[0m\u001b[37m\u001b[0m \u001b[1m39s\u001b[0m 95ms/step - accuracy: 0.1690 - loss: 0.7386 - val_accuracy: 0.1647 - val_loss: 0.6955 - WordAccuracy: 0.0000e+00\n",
            "Epoch 7/10\n",
            "\u001b[1m137/137\u001b[0m \u001b[32m━━━━━━━━━━━━━━━━━━━━\u001b[0m\u001b[37m\u001b[0m \u001b[1m1s\u001b[0m 7ms/step\n",
            "- WordAccuracy: 0.0\n",
            "\u001b[1m346/346\u001b[0m \u001b[32m━━━━━━━━━━━━━━━━━━━━\u001b[0m\u001b[37m\u001b[0m \u001b[1m41s\u001b[0m 95ms/step - accuracy: 0.1755 - loss: 0.7096 - val_accuracy: 0.1615 - val_loss: 0.6989 - WordAccuracy: 0.0000e+00\n",
            "Epoch 8/10\n",
            "\u001b[1m137/137\u001b[0m \u001b[32m━━━━━━━━━━━━━━━━━━━━\u001b[0m\u001b[37m\u001b[0m \u001b[1m1s\u001b[0m 8ms/step\n",
            "- WordAccuracy: 0.0\n",
            "\u001b[1m346/346\u001b[0m \u001b[32m━━━━━━━━━━━━━━━━━━━━\u001b[0m\u001b[37m\u001b[0m \u001b[1m41s\u001b[0m 96ms/step - accuracy: 0.1787 - loss: 0.6922 - val_accuracy: 0.1706 - val_loss: 0.6614 - WordAccuracy: 0.0000e+00\n",
            "Epoch 9/10\n",
            "\u001b[1m137/137\u001b[0m \u001b[32m━━━━━━━━━━━━━━━━━━━━\u001b[0m\u001b[37m\u001b[0m \u001b[1m1s\u001b[0m 8ms/step\n",
            "- WordAccuracy: 0.0\n",
            "\u001b[1m346/346\u001b[0m \u001b[32m━━━━━━━━━━━━━━━━━━━━\u001b[0m\u001b[37m\u001b[0m \u001b[1m41s\u001b[0m 97ms/step - accuracy: 0.1824 - loss: 0.6753 - val_accuracy: 0.1704 - val_loss: 0.6569 - WordAccuracy: 0.0000e+00\n",
            "Epoch 10/10\n",
            "\u001b[1m137/137\u001b[0m \u001b[32m━━━━━━━━━━━━━━━━━━━━\u001b[0m\u001b[37m\u001b[0m \u001b[1m2s\u001b[0m 11ms/step\n",
            "- WordAccuracy: 0.0\n",
            "\u001b[1m346/346\u001b[0m \u001b[32m━━━━━━━━━━━━━━━━━━━━\u001b[0m\u001b[37m\u001b[0m \u001b[1m43s\u001b[0m 102ms/step - accuracy: 0.1857 - loss: 0.6586 - val_accuracy: 0.1724 - val_loss: 0.6472 - WordAccuracy: 0.0000e+00\n"
          ]
        }
      ]
    },
    {
      "cell_type": "code",
      "source": [
        "plot_model(rnn.model, show_shapes=True)"
      ],
      "metadata": {
        "colab": {
          "base_uri": "https://localhost:8080/",
          "height": 392
        },
        "id": "yNMQZgJHyhXS",
        "outputId": "5533e81f-1404-4a2a-cb4e-58acf5b3daaa"
      },
      "execution_count": null,
      "outputs": [
        {
          "output_type": "execute_result",
          "data": {
            "image/png": "[encoded data removed]",
            "text/plain": [
              "<IPython.core.display.Image object>"
            ]
          },
          "metadata": {},
          "execution_count": 39
        }
      ]
    },
    {
      "cell_type": "code",
      "source": [
        "#save the model\n",
        "\n",
        "rnn.model.save('/content/drive/MyDrive/rnn_model.keras')\n"
      ],
      "metadata": {
        "id": "-0EN97lj4v2n"
      },
      "execution_count": 53,
      "outputs": []
    },
    {
      "cell_type": "code",
      "source": [],
      "metadata": {
        "id": "kEfteYNp9xap"
      },
      "execution_count": null,
      "outputs": []
    }
  ]
}